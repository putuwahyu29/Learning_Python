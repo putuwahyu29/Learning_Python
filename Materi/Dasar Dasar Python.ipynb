{
 "cells": [
  {
   "cell_type": "markdown",
   "metadata": {
    "id": "tjHdAT4EvkhM"
   },
   "source": [
    "#**Data, Variabel and Regular Expresion**"
   ]
  },
  {
   "cell_type": "markdown",
   "metadata": {
    "id": "aPaUTW0vWWxX"
   },
   "source": [
    "## Jenis Data dalam Statistik"
   ]
  },
  {
   "cell_type": "markdown",
   "metadata": {
    "id": "cSw6MmpIWezQ"
   },
   "source": [
    "### 1. Data Numerik\n",
    "Pembagian Pertama\n",
    "* Diskret(discrete)\n",
    "  - Ada karena dihitung (counted)\n",
    "  - Tidak memilki koma (integer)\n",
    "  - Contoh : lemparan 2 buah dadu (2,3,4,5,6,7,8,9,10,11,12)\n",
    "* Kontinu(continous)\n",
    "  - Ada karena diukur (measured)\n",
    "  - Memiliki koma dan nilai tak terbatas (infinite)\n",
    "  - Contoh : Jarak, tinggi badan, berat badan\n",
    "\n",
    "Pembagian Kedua\n",
    "* Interval\n",
    "  - Tidak memiliki arti angka nol (no true zero)\n",
    "  - Bisa bernilai negatif dan bisa dijumlahkan/dikurangi\n",
    "  - Contoh : Suhu(Celsius) ,Waktu (Jam 2, Jam 3), IQ\n",
    "* Rasio \n",
    "  - Memiliki arti angka nol (true zero)\n",
    "  - Tidak bernilai negatif dan bisa dijumlahkan, kurang, kali, bagi\n",
    "  - Contoh : Jarak, Kadar Obat, Durasi"
   ]
  },
  {
   "cell_type": "markdown",
   "metadata": {
    "id": "tikzuM6UY_3o"
   },
   "source": [
    "### 2. Data Kategori (Nominal)\n",
    "- Lebih bersifat kualitatif\n",
    "- Bagian dari beberapa kelompok\n",
    "\n",
    "  Contoh : Data Ras, Data Warna Rambut\n",
    "- Angka numerik dari data kategori ini tidak memiliki nilai matematis"
   ]
  },
  {
   "cell_type": "markdown",
   "metadata": {
    "id": "rv-IzYenZWhN"
   },
   "source": [
    "### 3. Data Rangking (Ordinal)\n",
    "- Campuran data numerik dan data kategori\n",
    "- Angka yang dimilki oleh data ordinal memilki arti matematis\n",
    "- Nilai yang dimungkinkan dalam data ordinal ini biasanya memiliki rentang tertentu\n",
    "\n",
    "  Contoh : Rating Kuesioner, Rating Aplikasi"
   ]
  },
  {
   "cell_type": "markdown",
   "metadata": {
    "id": "ZcfaUnvFwZQD"
   },
   "source": [
    "##**Konsep dan Tipe Data**\n",
    "\n",
    "Tipe Data adalah jenis data yang mampu ditangani oleh suatu bahasa pemrograman pada computer."
   ]
  },
  {
   "cell_type": "markdown",
   "metadata": {
    "id": "H2YjFDuqwkB-"
   },
   "source": [
    "### 1. Number\n",
    "\n",
    "  Tipe Numerik di Python terdiri dari int, float dan *complex*\n",
    "\n",
    "1. Integer : Menyatakan Bilangan Bulat\n",
    "2. Float : Menyatakan Bilangan yang mempunyai koma atau bilangan desimal\n",
    "3. Kompleks : Menyatakan pasangan angka real dan imajiner\n"
   ]
  },
  {
   "cell_type": "code",
   "execution_count": 1,
   "metadata": {
    "colab": {
     "base_uri": "https://localhost:8080/"
    },
    "executionInfo": {
     "elapsed": 22,
     "status": "ok",
     "timestamp": 1637108087928,
     "user": {
      "displayName": "Ahmad Risal",
      "photoUrl": "https://lh3.googleusercontent.com/a/default-user=s64",
      "userId": "12750717404745028995"
     },
     "user_tz": -480
    },
    "id": "eWM0Y0s0xbEh",
    "outputId": "f4af347a-1947-428c-a84a-60b55cdc4be8"
   },
   "outputs": [
    {
     "name": "stdout",
     "output_type": "stream",
     "text": [
      "20 bertipe <class 'int'>\n"
     ]
    }
   ],
   "source": [
    "a = 20\n",
    "print(a, \"bertipe\", type(a))"
   ]
  },
  {
   "cell_type": "code",
   "execution_count": null,
   "metadata": {
    "colab": {
     "base_uri": "https://localhost:8080/"
    },
    "id": "TLmyrnhU2Z56",
    "outputId": "c8a7927a-5f29-4461-b87f-754540485e24"
   },
   "outputs": [
    {
     "name": "stdout",
     "output_type": "stream",
     "text": [
      "20.0 bertipe <class 'float'>\n"
     ]
    }
   ],
   "source": [
    "b = 20.0\n",
    "print(b, \"bertipe\", type(b))"
   ]
  },
  {
   "cell_type": "code",
   "execution_count": null,
   "metadata": {
    "colab": {
     "base_uri": "https://localhost:8080/"
    },
    "id": "gGsckB-U2a9S",
    "outputId": "3ff0a7fe-e513-45f2-ef2e-b04e812d67d8"
   },
   "outputs": [
    {
     "name": "stdout",
     "output_type": "stream",
     "text": [
      "(1+3j) bertipe <class 'complex'>\n"
     ]
    }
   ],
   "source": [
    "c = 1+3j\n",
    "print(c, \"bertipe\", type(c))"
   ]
  },
  {
   "cell_type": "markdown",
   "metadata": {
    "id": "LL1CPizGx3wE"
   },
   "source": [
    "### 2. String\n",
    "\n",
    "  String adalah urutan dari karakter unicode yang dideklarasikan dengan petik tinggal atau ganda. String lebih dari 1 baris daat ditandai dengan tiga petik tunggal atau ganda"
   ]
  },
  {
   "cell_type": "code",
   "execution_count": null,
   "metadata": {
    "colab": {
     "base_uri": "https://localhost:8080/"
    },
    "id": "vZyccFDIyNj6",
    "outputId": "9e00b229-53c5-4800-f2f9-93accbfa5b17"
   },
   "outputs": [
    {
     "name": "stdout",
     "output_type": "stream",
     "text": [
      "Ini adalah string baris tunggal\n",
      "Ini adalah string baris tunggal bertipe <class 'str'>\n"
     ]
    }
   ],
   "source": [
    "a = \"Ini adalah string baris tunggal\"\n",
    "print(a)\n",
    "print(a, \"bertipe\", type(a))"
   ]
  },
  {
   "cell_type": "code",
   "execution_count": null,
   "metadata": {
    "colab": {
     "base_uri": "https://localhost:8080/"
    },
    "id": "E0cyjDQv2UnK",
    "outputId": "12028f13-222e-4ea5-cfb7-6770915f5d0f"
   },
   "outputs": [
    {
     "name": "stdout",
     "output_type": "stream",
     "text": [
      "Ini adalah string\n",
      "yang memiliki baris pertama\n",
      "dan selanjutnya baris kedua\n"
     ]
    }
   ],
   "source": [
    "b = '''Ini adalah string\n",
    "yang memiliki baris pertama\n",
    "dan selanjutnya baris kedua'''\n",
    "print(b)"
   ]
  },
  {
   "cell_type": "markdown",
   "metadata": {
    "id": "Yv1qSH21ywVc"
   },
   "source": [
    "### 3. Boolean\n",
    "\n",
    "  Tipe data bool atau Boolean merupakan turunan dari bilangan bulat (integer atau int) yang hanya punya dua nilai konstanta: True dan False."
   ]
  },
  {
   "cell_type": "code",
   "execution_count": null,
   "metadata": {
    "colab": {
     "base_uri": "https://localhost:8080/"
    },
    "id": "M1iY1Xv8y7Py",
    "outputId": "8277870b-e40d-4f83-e661-b4161060e5b8"
   },
   "outputs": [
    {
     "name": "stdout",
     "output_type": "stream",
     "text": [
      "True bertipe <class 'bool'>\n"
     ]
    }
   ],
   "source": [
    "a = True\n",
    "print(a,\"bertipe\", type(a))"
   ]
  },
  {
   "cell_type": "markdown",
   "metadata": {
    "id": "jiydKbeviAgx"
   },
   "source": [
    "## Struktur Data\n",
    "\n",
    "Struktur Data adalah cara penyimpanan dan pengorganisasian data-data pada memori computer maupu file secara efektif sehingga dapat diguakan secara efisien, termasuk operasi-operasi didalamnya"
   ]
  },
  {
   "cell_type": "markdown",
   "metadata": {
    "id": "utNqQVy8zfkS"
   },
   "source": [
    "### 1. List\n",
    "\n",
    "  List adalah jenis kumpulan data terurut (ordered sequence), dan merupakan salah satu variabel yang sering digunakan pada Python. Serupa, namun tak sama dengan array pada bahasa pemrograman lainnya. Bedanya, elemen List pada Python tidak harus memiliki tipe data yang sama. Mendeklarasikan List cukup mudah dengan kurung siku dan elemen yang dipisahkan dengan koma. "
   ]
  },
  {
   "cell_type": "code",
   "execution_count": null,
   "metadata": {
    "colab": {
     "base_uri": "https://localhost:8080/"
    },
    "id": "sJdTyaIwzogZ",
    "outputId": "c04ee041-e6a1-4628-af35-91d07167e409"
   },
   "outputs": [
    {
     "name": "stdout",
     "output_type": "stream",
     "text": [
      "[1, 2.2, 'python'] bertipe <class 'list'>\n"
     ]
    }
   ],
   "source": [
    "a = [1, 2.2, 'python']\n",
    "print(a,\"bertipe\", type(a))"
   ]
  },
  {
   "cell_type": "markdown",
   "metadata": {
    "id": "qcMpbGA1zxqC"
   },
   "source": [
    "### 2. Tuple\n",
    "\n",
    "  Tuple adalah jenis dari list yang tidak dapat diubah elemennya. Umumnya tuple digunakan untuk data yang bersifat sekali tulis, dan dapat dieksekusi lebih cepat. Tuple didefinisikan dengan kurung dan elemen yang dipisahkan dengan koma."
   ]
  },
  {
   "cell_type": "code",
   "execution_count": null,
   "metadata": {
    "colab": {
     "base_uri": "https://localhost:8080/"
    },
    "id": "Z4MCuoc3z8OU",
    "outputId": "125509d9-3d9e-4dc9-936e-f0a42fae53e5"
   },
   "outputs": [
    {
     "name": "stdout",
     "output_type": "stream",
     "text": [
      "(5, 'program', (1+3j)) bertipe <class 'tuple'>\n"
     ]
    }
   ],
   "source": [
    "a = (5,'program', 1+3j)\n",
    "print(a,\"bertipe\", type(a))"
   ]
  },
  {
   "cell_type": "markdown",
   "metadata": {
    "id": "DhST33Au0IGK"
   },
   "source": [
    "### 3. Set\n",
    "\n",
    "  Set adalah kumpulan item bersifat unik dan tanpa urutan (unordered collection). Didefinisikan dengan kurawal dan elemennya dipisahkan dengan koma. Pada Set kita dapat melakukan union dan intersection, sekaligus otomatis melakukan penghapusan data duplikat."
   ]
  },
  {
   "cell_type": "code",
   "execution_count": null,
   "metadata": {
    "colab": {
     "base_uri": "https://localhost:8080/"
    },
    "id": "V9zX7OpQ0bPa",
    "outputId": "71d7106e-bc35-4f21-d388-dbfb6e774b6b"
   },
   "outputs": [
    {
     "name": "stdout",
     "output_type": "stream",
     "text": [
      "{1, 2, 3} bertipe <class 'set'>\n"
     ]
    }
   ],
   "source": [
    "a = {1,2,3}\n",
    "print(a,\"bertipe\", type(a))"
   ]
  },
  {
   "cell_type": "code",
   "execution_count": null,
   "metadata": {
    "colab": {
     "base_uri": "https://localhost:8080/"
    },
    "id": "9yf3SpHkjVLY",
    "outputId": "e5f6917e-b451-4da3-95f7-29f4d19a3909"
   },
   "outputs": [
    {
     "name": "stdout",
     "output_type": "stream",
     "text": [
      "{'Saya', 1.3, True} bertipe <class 'set'>\n"
     ]
    }
   ],
   "source": [
    "a = {1.3,True,'Saya'}\n",
    "print(a,\"bertipe\", type(a))"
   ]
  },
  {
   "cell_type": "markdown",
   "metadata": {
    "id": "22gcwjBW0iH8"
   },
   "source": [
    "### 4. Dictionary\n",
    "\n",
    "  Dictionary pada Python adalah kumpulan pasangan kunci-nilai (pair of key-value) yang bersifat tidak berurutan. Dictionary dapat digunakan untuk menyimpan data kecil hingga besar. Untuk mengakses datanya, kita harus mengetahui kuncinya (key). Pada Python, dictionary didefinisikan dengan kurawal dan tambahan definisi berikut:\n",
    "  1. Setiap elemen pair key-value dipisahkan dengan koma (,).\n",
    "  2. Key dan Value dipisahkan dengan titik dua (:).\n",
    "  3. Key dan Value dapat berupa tipe variabel/obyek apapun."
   ]
  },
  {
   "cell_type": "code",
   "execution_count": null,
   "metadata": {
    "colab": {
     "base_uri": "https://localhost:8080/"
    },
    "id": "b0h9hGNx0tcJ",
    "outputId": "dddd8746-4a9d-4354-b4eb-b4c3437a860d"
   },
   "outputs": [
    {
     "name": "stdout",
     "output_type": "stream",
     "text": [
      "{1: 'value', 'key': 2} bertype <class 'dict'>\n"
     ]
    }
   ],
   "source": [
    "a = {1:'value','key':2}\n",
    "print(a,\"bertype\", type(a))"
   ]
  },
  {
   "cell_type": "markdown",
   "metadata": {
    "id": "36tw8Uuj1i1j"
   },
   "source": [
    "##**Konversi Data**"
   ]
  },
  {
   "cell_type": "markdown",
   "metadata": {
    "id": "oxDA49Ix1l9C"
   },
   "source": [
    "Kita dapat melakukan konversi tipe data bawaan dengan menggunakan fungsi konversi tipe bawaan (standard type) misalnya: int(), float(), str(), dll."
   ]
  },
  {
   "cell_type": "code",
   "execution_count": null,
   "metadata": {
    "colab": {
     "base_uri": "https://localhost:8080/"
    },
    "id": "caSNcCl-2Lqo",
    "outputId": "c6f0497b-c11a-4d0e-f2e9-b734c88e9a87"
   },
   "outputs": [
    {
     "name": "stdout",
     "output_type": "stream",
     "text": [
      "5.0\n"
     ]
    }
   ],
   "source": [
    "# Konversi dari Integer ke Float\n",
    "a = 5\n",
    "print(float(a))"
   ]
  },
  {
   "cell_type": "code",
   "execution_count": null,
   "metadata": {
    "colab": {
     "base_uri": "https://localhost:8080/"
    },
    "id": "BpObk2qF2NwC",
    "outputId": "fcab5d11-8743-4659-f393-a1655feccba0"
   },
   "outputs": [
    {
     "name": "stdout",
     "output_type": "stream",
     "text": [
      "10\n"
     ]
    }
   ],
   "source": [
    "# Konversi dari  Float ke Integer\n",
    "a = 10.6\n",
    "print(int(a))"
   ]
  },
  {
   "cell_type": "code",
   "execution_count": null,
   "metadata": {
    "colab": {
     "base_uri": "https://localhost:8080/"
    },
    "id": "6RbuzAqZ3S8y",
    "outputId": "408ac4d6-ed08-4f48-a709-888794603f78"
   },
   "outputs": [
    {
     "name": "stdout",
     "output_type": "stream",
     "text": [
      "2.5\n"
     ]
    }
   ],
   "source": [
    "# Konversi dari String ke Float\n",
    "a = '2.5'\n",
    "print(float(a))"
   ]
  },
  {
   "cell_type": "code",
   "execution_count": null,
   "metadata": {
    "colab": {
     "base_uri": "https://localhost:8080/"
    },
    "id": "bcMjdi8I3ieq",
    "outputId": "a5dc6fba-4743-438d-f0a7-c90ef9d4882e"
   },
   "outputs": [
    {
     "name": "stdout",
     "output_type": "stream",
     "text": [
      "25\n"
     ]
    }
   ],
   "source": [
    "# Konversi dari Integer ke String\n",
    "a = 25\n",
    "print(str(a))"
   ]
  },
  {
   "cell_type": "code",
   "execution_count": null,
   "metadata": {
    "colab": {
     "base_uri": "https://localhost:8080/"
    },
    "id": "gbn7b2eq30va",
    "outputId": "79a807f2-9bc8-4431-c479-9836e83dc39c"
   },
   "outputs": [
    {
     "name": "stdout",
     "output_type": "stream",
     "text": [
      "{1, 2, 3}\n"
     ]
    }
   ],
   "source": [
    "# Konversi dari List ke Set\n",
    "a = [1,2,3]\n",
    "print(set(a))"
   ]
  },
  {
   "cell_type": "code",
   "execution_count": null,
   "metadata": {
    "colab": {
     "base_uri": "https://localhost:8080/"
    },
    "id": "PMpQKu-34DFM",
    "outputId": "acd5a1b7-0dd9-482d-e59f-a24afe2597fc"
   },
   "outputs": [
    {
     "name": "stdout",
     "output_type": "stream",
     "text": [
      "(5, 6, 7)\n"
     ]
    }
   ],
   "source": [
    "# Konversi dari Set ke Tuple\n",
    "a = {5,6,7}\n",
    "print(tuple(a))"
   ]
  },
  {
   "cell_type": "code",
   "execution_count": null,
   "metadata": {
    "colab": {
     "base_uri": "https://localhost:8080/"
    },
    "id": "G5WuG9yS4P05",
    "outputId": "b10c745b-ba1b-4519-ca9c-709b3b63c841"
   },
   "outputs": [
    {
     "name": "stdout",
     "output_type": "stream",
     "text": [
      "['h', 'e', 'l', 'l', 'o']\n"
     ]
    }
   ],
   "source": [
    "# Konversi dari String ke List\n",
    "a = 'hello'\n",
    "print(list(a))"
   ]
  },
  {
   "cell_type": "code",
   "execution_count": null,
   "metadata": {
    "colab": {
     "base_uri": "https://localhost:8080/"
    },
    "id": "TX-AfDu14hrr",
    "outputId": "874a243f-bcff-4d27-b544-c84faf70d3e9"
   },
   "outputs": [
    {
     "name": "stdout",
     "output_type": "stream",
     "text": [
      "{1: 2, 3: 4}\n"
     ]
    }
   ],
   "source": [
    "# Konversi dari List ke Dictionary\n",
    "a = [[1,2],[3,4]]\n",
    "print(dict(a))"
   ]
  },
  {
   "cell_type": "markdown",
   "metadata": {
    "id": "92TJtoMfWXD2"
   },
   "source": [
    "##Vektor, Matriks dan Array"
   ]
  },
  {
   "cell_type": "markdown",
   "metadata": {
    "id": "5B9DOAIyl1MY"
   },
   "source": [
    "### Vektor\n",
    "\n",
    "Vektor adalah besaran yang memiliki arah dan juga besaran, terutama sebagai penentu posisi suatu titik dalam ruang relatif terhadap titik lainnya. Vektor sangat penting dalam Machine Learning karena tidak hanya mendeskripsikan besaran tetapi juga arah . Kita dapat membuat vektor di NumPy dengan potongan kode berikut:"
   ]
  },
  {
   "cell_type": "code",
   "execution_count": null,
   "metadata": {
    "colab": {
     "base_uri": "https://localhost:8080/"
    },
    "id": "28_9mZVHmOiY",
    "outputId": "1c73f10a-0901-45b4-a2d7-3e62cd27f916"
   },
   "outputs": [
    {
     "name": "stdout",
     "output_type": "stream",
     "text": [
      "[1 2 3]\n"
     ]
    }
   ],
   "source": [
    "import numpy as np\n",
    "\n",
    "vektor_baris = np.array([1,2,3])\n",
    "print(vektor_baris)"
   ]
  },
  {
   "cell_type": "markdown",
   "metadata": {
    "id": "RXCM6WrLmSm_"
   },
   "source": [
    "Kita juga dapat membuat vektor kolom sebagai:"
   ]
  },
  {
   "cell_type": "code",
   "execution_count": null,
   "metadata": {
    "colab": {
     "base_uri": "https://localhost:8080/"
    },
    "id": "v9QxOm02mTNn",
    "outputId": "fc2dbd4a-3a7c-4ef4-8a02-5374cb938c73"
   },
   "outputs": [
    {
     "name": "stdout",
     "output_type": "stream",
     "text": [
      "[[1]\n",
      " [2]\n",
      " [3]]\n"
     ]
    }
   ],
   "source": [
    "import numpy as np\n",
    "\n",
    "vektor_kolom = np.array([[1],[2],[3]])\n",
    "print(vektor_kolom)"
   ]
  },
  {
   "cell_type": "markdown",
   "metadata": {
    "id": "rWMN9qufn2V3"
   },
   "source": [
    "Dot Product di Vektor\n",
    "\n",
    "`np.dot ()`\n",
    "\n",
    "Contoh :\n"
   ]
  },
  {
   "cell_type": "code",
   "execution_count": null,
   "metadata": {
    "colab": {
     "base_uri": "https://localhost:8080/"
    },
    "id": "rSuIBSCnng5O",
    "outputId": "b291e8a2-5d47-496e-df7b-c64664b5a67a"
   },
   "outputs": [
    {
     "data": {
      "text/plain": [
       "150"
      ]
     },
     "execution_count": 236,
     "metadata": {
      "tags": []
     },
     "output_type": "execute_result"
    }
   ],
   "source": [
    "a = np.array ( [ 3 , 5 , 6 ] )\n",
    "b = np.array ( [ 23 , 15 , 1 ] )\n",
    "\n",
    "np.dot ( a, b )"
   ]
  },
  {
   "cell_type": "markdown",
   "metadata": {
    "id": "2NI9uwRHosQP"
   },
   "source": [
    "Mencari rata-rata   \n",
    "`np.mean ()`\n",
    "\n",
    "Contoh :"
   ]
  },
  {
   "cell_type": "code",
   "execution_count": null,
   "metadata": {
    "colab": {
     "base_uri": "https://localhost:8080/"
    },
    "id": "MizNusSyogae",
    "outputId": "c0a94f80-1d9a-4521-9d3c-f8f15ecfcb41"
   },
   "outputs": [
    {
     "data": {
      "text/plain": [
       "5.0"
      ]
     },
     "execution_count": 237,
     "metadata": {
      "tags": []
     },
     "output_type": "execute_result"
    }
   ],
   "source": [
    "vektor = [1,2,3,4,5,6,7,8,9]\n",
    "np.mean ( vektor )"
   ]
  },
  {
   "cell_type": "markdown",
   "metadata": {
    "id": "9S32K5skpcQX"
   },
   "source": [
    "Mencari Varians \n",
    "\n",
    "`np.var ()`\n",
    "\n",
    "Contoh :\n"
   ]
  },
  {
   "cell_type": "code",
   "execution_count": null,
   "metadata": {
    "colab": {
     "base_uri": "https://localhost:8080/"
    },
    "id": "XHHrSCeCoyu-",
    "outputId": "f593c20f-529d-4ece-b471-5abe493f37c8"
   },
   "outputs": [
    {
     "data": {
      "text/plain": [
       "6.666666666666667"
      ]
     },
     "execution_count": 238,
     "metadata": {
      "tags": []
     },
     "output_type": "execute_result"
    }
   ],
   "source": [
    "vektor = [1,2,3,4,5,6,7,8,9]\n",
    "np.var ( vektor )"
   ]
  },
  {
   "cell_type": "markdown",
   "metadata": {
    "id": "WCrJczo3phef"
   },
   "source": [
    "Mencari Standar Deviasi\n",
    "\n",
    "`np.std ()`\n",
    "\n",
    "Contoh :\n"
   ]
  },
  {
   "cell_type": "code",
   "execution_count": null,
   "metadata": {
    "colab": {
     "base_uri": "https://localhost:8080/"
    },
    "id": "Z69noSCrplZ-",
    "outputId": "723e014b-833f-4e2d-d2de-1ab5a54bbd1b"
   },
   "outputs": [
    {
     "data": {
      "text/plain": [
       "2.581988897471611"
      ]
     },
     "execution_count": 239,
     "metadata": {
      "tags": []
     },
     "output_type": "execute_result"
    }
   ],
   "source": [
    "vektor = [1,2,3,4,5,6,7,8,9]\n",
    "np.std ( vektor )"
   ]
  },
  {
   "cell_type": "markdown",
   "metadata": {
    "id": "ewK7_aSkm0kT"
   },
   "source": [
    "### Matriks\n",
    "\n",
    "Matriks dapat secara sederhana dipahami sebagai larik dua dimensi. Kita bisa membuat matriks dengan NumPy dengan membuat array multi dimensi:"
   ]
  },
  {
   "cell_type": "code",
   "execution_count": null,
   "metadata": {
    "colab": {
     "base_uri": "https://localhost:8080/"
    },
    "id": "SnWuEbxBm_2_",
    "outputId": "e7110a45-f863-4267-9df5-edefbf620c80"
   },
   "outputs": [
    {
     "name": "stdout",
     "output_type": "stream",
     "text": [
      "[[1 2 3]\n",
      " [4 5 6]\n",
      " [7 8 9]]\n"
     ]
    }
   ],
   "source": [
    "matriks = np.array([[1, 2, 3], [4, 5, 6], [7, 8, 9]])\n",
    "print(matriks)"
   ]
  },
  {
   "cell_type": "markdown",
   "metadata": {
    "id": "S2L2LKcIrdg-"
   },
   "source": [
    "Operasi Transpose pada matriks\n",
    "\n",
    "`matrix.T`\n",
    "\n",
    "Contoh :\n"
   ]
  },
  {
   "cell_type": "code",
   "execution_count": null,
   "metadata": {
    "colab": {
     "base_uri": "https://localhost:8080/"
    },
    "id": "iuF3nrrpp93X",
    "outputId": "ac5371eb-e221-4b29-f6e4-db8fc6696f5d"
   },
   "outputs": [
    {
     "name": "stdout",
     "output_type": "stream",
     "text": [
      "[[1 4 7]\n",
      " [2 5 8]\n",
      " [3 6 9]]\n"
     ]
    }
   ],
   "source": [
    "matriks = np.array([[1, 2, 3],[4, 5, 6],[7, 8, 9]])\n",
    "transpos_matriks = matriks.T\n",
    "print(transpos_matriks)"
   ]
  },
  {
   "cell_type": "markdown",
   "metadata": {
    "id": "ff32P4kHtOI5"
   },
   "source": [
    "Penjumlahan pada Matriks\n",
    "\n",
    "`np.add ()`\n",
    "\n",
    "Contoh :\n"
   ]
  },
  {
   "cell_type": "code",
   "execution_count": null,
   "metadata": {
    "colab": {
     "base_uri": "https://localhost:8080/"
    },
    "id": "i_Hcgq2EsyCm",
    "outputId": "945ce768-e8f9-4002-efcb-f23e3df3e045"
   },
   "outputs": [
    {
     "name": "stdout",
     "output_type": "stream",
     "text": [
      "[[ 2  4  6]\n",
      " [ 8 10 12]\n",
      " [14 16 18]]\n"
     ]
    }
   ],
   "source": [
    "matriks = np.array([[1, 2, 3],[4, 5, 6],[7, 8, 9]])\n",
    "penjumlahan_matriks = np.add ( matriks, matriks )\n",
    "print(penjumlahan_matriks)"
   ]
  },
  {
   "cell_type": "markdown",
   "metadata": {
    "id": "kKY64XfktQuG"
   },
   "source": [
    "Pengurangan pada Matriks\n",
    "\n",
    "`np.subtract ()`\n",
    "\n",
    "Contoh :\n"
   ]
  },
  {
   "cell_type": "code",
   "execution_count": null,
   "metadata": {
    "colab": {
     "base_uri": "https://localhost:8080/"
    },
    "id": "7z-OgRCP1MT9",
    "outputId": "69218373-2f62-4c72-bf30-58eb4d7924c5"
   },
   "outputs": [
    {
     "name": "stdout",
     "output_type": "stream",
     "text": [
      "[[0 0 0]\n",
      " [0 0 0]\n",
      " [0 0 0]]\n"
     ]
    }
   ],
   "source": [
    "matriks = np.array([[1, 2, 3],[4, 5, 6],[7, 8, 9]])\n",
    "pengurangan_matriks = np.subtract ( matriks, matriks )\n",
    "print(pengurangan_matriks)"
   ]
  },
  {
   "cell_type": "markdown",
   "metadata": {
    "id": "v_lgGuX05r9K"
   },
   "source": [
    "###**Array** \n",
    "\n",
    "Array merupakan sekumpulan variabel yang memiliki tipe data yang sama dan mampu menyimpan beberapa nilai dalam satu variabel. Array merupakan tipe data terstruktur dalam pemrograman, array memungkinkan untuk menyimpan data maupun referensi objek dalam jumlah banyak dan terindeks. Sehingga sejumlah variabel dapat menggunakan nama yang sama."
   ]
  },
  {
   "cell_type": "markdown",
   "metadata": {
    "id": "04M_qfOh7xxq"
   },
   "source": [
    "Contoh mendefinisikan suatu array:"
   ]
  },
  {
   "cell_type": "code",
   "execution_count": null,
   "metadata": {
    "colab": {
     "base_uri": "https://localhost:8080/"
    },
    "id": "bTu0zqoP7IP5",
    "outputId": "28690797-6ba5-4594-d4c9-fa3cbecf3efa"
   },
   "outputs": [
    {
     "name": "stdout",
     "output_type": "stream",
     "text": [
      "['Dono' 'Kasino' 'indro']\n",
      "[1 2 3 4]\n"
     ]
    }
   ],
   "source": [
    "import numpy as np\n",
    "\n",
    "angka = np.array([ 1, 2, 3 ,4])\n",
    "nama = np.array([\"Dono\", \"Kasino\", \"indro\"])\n",
    "print(nama)\n",
    "print(angka)"
   ]
  },
  {
   "cell_type": "code",
   "execution_count": null,
   "metadata": {
    "colab": {
     "base_uri": "https://localhost:8080/"
    },
    "id": "nI0RvvYf7GJP",
    "outputId": "7291c0e5-5349-4aac-cb98-131b32568664"
   },
   "outputs": [
    {
     "name": "stdout",
     "output_type": "stream",
     "text": [
      "<class 'numpy.ndarray'>\n"
     ]
    }
   ],
   "source": [
    "angka = np.array([ 1, 2, 3 ,4 ])\n",
    "print(type(angka))"
   ]
  },
  {
   "cell_type": "markdown",
   "metadata": {
    "id": "9_O2Tv45-PXc"
   },
   "source": [
    "Operasi Elemen pada Array\n",
    "\n",
    "Contoh : "
   ]
  },
  {
   "cell_type": "code",
   "execution_count": null,
   "metadata": {
    "colab": {
     "base_uri": "https://localhost:8080/"
    },
    "executionInfo": {
     "elapsed": 2826,
     "status": "ok",
     "timestamp": 1613293118013,
     "user": {
      "displayName": "Descent Politeknik Statistika STIS",
      "photoUrl": "https://lh3.googleusercontent.com/a-/AOh14GiW6Fn1o51Ydmii31pvjaP0gV99TUvEk3QcJByK=s64",
      "userId": "02642353844660718913"
     },
     "user_tz": -420
    },
    "id": "cBJkajka-wTW",
    "outputId": "32f7c13b-0b9b-42b9-d557-b4745c94439e"
   },
   "outputs": [
    {
     "name": "stdout",
     "output_type": "stream",
     "text": [
      "[2 4 6 8]\n",
      "[0 0 0 0]\n",
      "[ 1  4  9 16]\n",
      "[1. 1. 1. 1.]\n",
      "[  1   4  27 256]\n"
     ]
    }
   ],
   "source": [
    "import numpy as np\n",
    "angka = np.array([ 1, 2, 3 ,4 ])\n",
    "\n",
    "# Operasi Penjumlahan \n",
    "penjumlahan = angka + angka\n",
    "print(penjumlahan)\n",
    "\n",
    "# Operasi Pengurangan \n",
    "pengurangan = angka - angka\n",
    "print(pengurangan)\n",
    "\n",
    "# Operasi Perkalian\n",
    "perkalian = angka * angka\n",
    "print(perkalian)\n",
    "\n",
    "# Operasi Pembagian \n",
    "pembagian = angka / angka\n",
    "print(pembagian)\n",
    "\n",
    "# Operasi Pangkat\n",
    "pangkat = angka ** angka\n",
    "print(pangkat)"
   ]
  },
  {
   "cell_type": "markdown",
   "metadata": {
    "id": "-1nCr8Ev7mo1"
   },
   "source": [
    "Menghitung Dimensi\n",
    "\n",
    "Untuk mengetahui jumlah dimensi pada data menggunakan fungsi \n",
    "`ndim`\n",
    "\n",
    "Contoh :"
   ]
  },
  {
   "cell_type": "code",
   "execution_count": null,
   "metadata": {
    "colab": {
     "base_uri": "https://localhost:8080/"
    },
    "id": "HHadTVjc7z17",
    "outputId": "07386275-f468-452d-ed73-bd6306b10763"
   },
   "outputs": [
    {
     "name": "stdout",
     "output_type": "stream",
     "text": [
      "array tersebut berdimensi 1\n"
     ]
    }
   ],
   "source": [
    "a = np.array([1,2,3])\n",
    "print(\"array tersebut berdimensi\", a.ndim)"
   ]
  },
  {
   "cell_type": "markdown",
   "metadata": {
    "id": "X8UahuXOALsg"
   },
   "source": [
    "Jenis Jenis Array\n",
    "\n",
    "1. Array satu dimensi merupakan sebuah variabel yang menyimpan sekumpulan data yang memiliki tipe sama dan elemen yang akan diakses melalui satu index atau subskrip.        \n",
    "    Contoh: `nama_array[jumlah_elemen];`\n",
    "\n",
    "2. Array dua dimensi merupakan sebuah variabel yang menyimpan sekupmulan data yang memiliki tipe sama dan elemen yang akan diakses memalui dua indeks atau sub skrip yaitu index baris dan index kolom. \n",
    "    Contoh: `nama_array[jumlah_elemen_baris][jumlah_elemen_kolom];`     "
   ]
  },
  {
   "cell_type": "markdown",
   "metadata": {
    "id": "AyavbEHJca8N"
   },
   "source": [
    "Struktur Data"
   ]
  },
  {
   "cell_type": "markdown",
   "metadata": {
    "id": "dr4jQkVmcSkm"
   },
   "source": [
    "* Index : kembalikan indeks item pertama dalam array yang mana nilainya “x”. `array.index(x)`\n",
    "\n",
    "Contoh :"
   ]
  },
  {
   "cell_type": "markdown",
   "metadata": {
    "id": "cbfaX2m1ciRo"
   },
   "source": [
    "* Append : menambahkan sebuah item baru pada akhir array `array.append(x)`"
   ]
  },
  {
   "cell_type": "code",
   "execution_count": null,
   "metadata": {
    "colab": {
     "base_uri": "https://localhost:8080/"
    },
    "id": "dJHWAJACcjRG",
    "outputId": "9555c273-81a9-4472-9fae-f402e1a6cd55"
   },
   "outputs": [
    {
     "name": "stdout",
     "output_type": "stream",
     "text": [
      "[1, 2, 3, 4, 5]\n"
     ]
    }
   ],
   "source": [
    "array = [1,2,3,4]\n",
    "array.append(5)\n",
    "print(array)"
   ]
  },
  {
   "cell_type": "markdown",
   "metadata": {
    "id": "zYw0bjBjckoY"
   },
   "source": [
    "* Insert : memasukkan item baru ke dalam “x” sebelum “i” `array.insert(i,x)`"
   ]
  },
  {
   "cell_type": "code",
   "execution_count": null,
   "metadata": {
    "colab": {
     "base_uri": "https://localhost:8080/"
    },
    "id": "AkxkNR6ScpC1",
    "outputId": "cc163e81-94af-44bc-bc52-79eb15d4a5d7"
   },
   "outputs": [
    {
     "name": "stdout",
     "output_type": "stream",
     "text": [
      "[1, 3, 2, 3, 4]\n"
     ]
    }
   ],
   "source": [
    "array = [1,2,3,4]\n",
    "array.insert(1,3)\n",
    "print(array)"
   ]
  },
  {
   "cell_type": "markdown",
   "metadata": {
    "id": "_EzJ6FmMc1bN"
   },
   "source": [
    "* Remove : menghapus item bernilai “x” dalam array. `array.remove(x)`"
   ]
  },
  {
   "cell_type": "code",
   "execution_count": null,
   "metadata": {
    "colab": {
     "base_uri": "https://localhost:8080/"
    },
    "id": "NaNFjaBac6Su",
    "outputId": "4332a5c7-feb3-4239-d76e-f5a09e914de7"
   },
   "outputs": [
    {
     "name": "stdout",
     "output_type": "stream",
     "text": [
      "[2, 3, 4]\n"
     ]
    }
   ],
   "source": [
    "array = [1,2,3,4]\n",
    "array.remove(1)\n",
    "print(array)"
   ]
  },
  {
   "cell_type": "markdown",
   "metadata": {
    "id": "L8x66eFLdDxV"
   },
   "source": [
    "* Pop : menghapus item dalam posisi tertentu dalam indeks kemudian mengembalikannya. `array.pop([i])`"
   ]
  },
  {
   "cell_type": "markdown",
   "metadata": {
    "id": "OnSdCjC2dHyO"
   },
   "source": [
    "* Count : kembalikan pada jumlah item “x” di dalam array. `array.count(x)`"
   ]
  },
  {
   "cell_type": "markdown",
   "metadata": {
    "id": "XM4xHUUsdLPG"
   },
   "source": [
    "* Reverse : membalikan urutan item dalam array sehingga indeks dari setiap item berubah secara terbalik. `array.reverse()`"
   ]
  },
  {
   "cell_type": "markdown",
   "metadata": {
    "id": "2SeW3dQzdPAg"
   },
   "source": [
    "* Extend : menambahkan item tertentu dalam akhir array `array.extend('')`"
   ]
  },
  {
   "cell_type": "code",
   "execution_count": null,
   "metadata": {
    "colab": {
     "base_uri": "https://localhost:8080/"
    },
    "id": "OHP_Hbn8fbff",
    "outputId": "a0248c8f-028d-4caf-9153-eff6318dc0b9"
   },
   "outputs": [
    {
     "name": "stdout",
     "output_type": "stream",
     "text": [
      "[1, 2, 3, 4, 'S', 'T', 'I', 'S']\n"
     ]
    }
   ],
   "source": [
    "array = [1,2,3,4]\n",
    "array.extend('STIS')\n",
    "print(array)"
   ]
  },
  {
   "cell_type": "markdown",
   "metadata": {
    "id": "M5C3UnIRdTJd"
   },
   "source": [
    "* Sort : mengurutkan item dalam array. `array.sort()`"
   ]
  },
  {
   "cell_type": "code",
   "execution_count": null,
   "metadata": {
    "colab": {
     "base_uri": "https://localhost:8080/"
    },
    "id": "CgJreKIygGG-",
    "outputId": "c3172889-c41f-44e3-b5f6-229ecd3ed298"
   },
   "outputs": [
    {
     "name": "stdout",
     "output_type": "stream",
     "text": [
      "[1, 5, 6, 7, 9, 10]\n"
     ]
    }
   ],
   "source": [
    "array = [10,6,7,1,9,5]\n",
    "array.sort()\n",
    "print(array)"
   ]
  },
  {
   "cell_type": "markdown",
   "metadata": {
    "id": "wFFlObGxdXFk"
   },
   "source": [
    "* Len : mengembalikan nilai berupa jumlah item di dalam sebuah array. `len()`"
   ]
  },
  {
   "cell_type": "markdown",
   "metadata": {
    "id": "iXYFoL9K73Ij"
   },
   "source": [
    "  * Del : menghapus item dalam array `del L[i]`"
   ]
  },
  {
   "cell_type": "code",
   "execution_count": null,
   "metadata": {
    "colab": {
     "base_uri": "https://localhost:8080/"
    },
    "id": "Cw5uOD1GfFq2",
    "outputId": "d1764812-c0ee-497c-ccd7-81b055433843"
   },
   "outputs": [
    {
     "name": "stdout",
     "output_type": "stream",
     "text": [
      "[1, 3, 4]\n"
     ]
    }
   ],
   "source": [
    "array = [1,2,3,4]\n",
    "del array[1]\n",
    "print(array)"
   ]
  },
  {
   "cell_type": "markdown",
   "metadata": {
    "id": "EYAFv95L_JLa"
   },
   "source": [
    "Array dan Vektor Serupa tapi Tak Sama\n",
    "\n",
    "Secara umum, array satu dimensi dengan vector jika dilihat secara sepintas terlihat sangat mirip dan susah untuk dibedakan sehingga tidak jarang banyak orang yang menyebut bahwa vector adalah array satu dimensi, sedangkan array dua dimensi adalah matrix. Ternyata yang membedakan antara vector dan array adalah array dapat dilakukan proses transpose, sedangkan vector tidak dapat di-transpose.\n"
   ]
  },
  {
   "cell_type": "markdown",
   "metadata": {
    "id": "DzqmvUqz_klR"
   },
   "source": [
    "Array Juga Berbeda dengan List\n",
    "\n",
    "Berbeda dengan array dan vector yang berada di bawah package numpy, untuk list sendiri berada di bawah package pandas karena bisa memuat data selain angka, misalnya saja string, boolean, dll. List pada Python bersifat mutable yang artinya elemen nya bisa dimodifikasi. Perbedaan yang sangat menonjol antara list dengan array dan vector adalah list berisi kumpulan data dimana data tersebut memiliki tipe data yang sama, misalnya angka (number), string, dll."
   ]
  },
  {
   "cell_type": "markdown",
   "metadata": {
    "id": "t875zQxFCGhi"
   },
   "source": [
    "## **List**\n",
    "\n"
   ]
  },
  {
   "cell_type": "markdown",
   "metadata": {
    "id": "fA_VZ0-u4cj2"
   },
   "source": [
    "### Pengertian List\n",
    "List adalah jenis kumpulan data terurut (ordered sequence), dan merupakan salah satu variabel yang sering digunakan pada Python. Serupa, namun tak sama dengan array pada bahasa pemrograman lainnya. Bedanya, elemen List pada Python tidak harus memiliki tipe data yang sama. Mendeklarasikan List cukup mudah dengan kurung siku dan elemen yang dipisahkan dengan koma. \n",
    "Setiap data di dalamnya dapat diakses dengan indeks yang dimulai dari 0.\n",
    "\n",
    "Python mengenal slicing operator [] yang dapat melakukan ekstraksi sebuah item atau beberapa item yang berada dalam range tertentu pada tipe data urutan (sequences), misalnya list, string dan tuple. Beberapa tipe urutan juga mendukung \"extended slicing\" dengan parameter ketiga berupa \"step\".\n",
    "\n",
    "* `x[0]` artinya mengambil elemen paling awal, dengan index 0 dari List x.\n",
    "\n",
    "* `x[5]` artinya mengambil elemen dengan index 5 dari List x.\n",
    "\n",
    "* `x[-1]` artinya mengambil elemen dengan index paling belakang ke-1 dari List x.\n",
    "\n",
    "* `x[3:5]` artinya membuat list dari anggota elemen List x dengan index 3 hingga sebelum index 5 (tidak termasuk elemen dengan index 5, dalam hal ini hanya index 3-4).\n",
    "\n",
    "* `x[:5]` artinya membuat list dari anggota elemen List x paling awal hingga sebelum index 5 (tidak termasuk elemen dengan index 5, dalam hal ini hanya index 0-4).\n",
    "\n",
    "* `x[-3:]` artinya membuat list dari anggota elemen List x mulai index ke-3 dari belakang hingga paling belakang.\n",
    "\n",
    "* `x[1:7:2]` artinya membuat list dari anggota elemen List x dengan index 1 hingga sebelum index 7, dengan \"step\" 2 (dalam hal ini hanya index 1, 3, 5).\n",
    "\n",
    "Contoh : "
   ]
  },
  {
   "cell_type": "code",
   "execution_count": null,
   "metadata": {
    "colab": {
     "base_uri": "https://localhost:8080/"
    },
    "id": "ozd8d15ZDEmJ",
    "outputId": "ed51f242-92d7-4b0c-bc3d-f8f60bfc1c23"
   },
   "outputs": [
    {
     "name": "stdout",
     "output_type": "stream",
     "text": [
      "30\n",
      "40\n",
      "[20, 50]\n",
      "[5, 10, 15, 20, 50]\n",
      "[30, 35, 40]\n",
      "[10, 20, 30]\n"
     ]
    }
   ],
   "source": [
    "x = [5,10,15,20,50,30,35,40]\n",
    "print(x[5])\n",
    "print(x[-1])\n",
    "print(x[3:5])\n",
    "print(x[:5])\n",
    "print(x[-3:])\n",
    "print(x[1:7:2])"
   ]
  },
  {
   "cell_type": "code",
   "execution_count": null,
   "metadata": {
    "colab": {
     "base_uri": "https://localhost:8080/"
    },
    "id": "AIpn4TJl45wO",
    "outputId": "77093ab7-cc4a-49b4-f4e8-42c2616cbe79"
   },
   "outputs": [
    {
     "name": "stdout",
     "output_type": "stream",
     "text": [
      "[5, 10, 15, 20, 50, 30, 35, 40]\n"
     ]
    }
   ],
   "source": [
    "# Melakukan pengubahan\n",
    "array1 = [1,2,3]\n",
    "array1[2]=4\n",
    "print (x)"
   ]
  },
  {
   "cell_type": "code",
   "execution_count": null,
   "metadata": {
    "colab": {
     "base_uri": "https://localhost:8080/"
    },
    "id": "NPVP5PS_DS6b",
    "outputId": "42387bd4-8ac9-48f9-e0c9-f3261c71b636"
   },
   "outputs": [
    {
     "name": "stdout",
     "output_type": "stream",
     "text": [
      "[1, 2, 4, 5]\n"
     ]
    }
   ],
   "source": [
    "# Melakukan pengubahan dan penambahan\n",
    "x = [1,2,3]\n",
    "x[2]=4\n",
    "x.append(5)\n",
    "print(x)"
   ]
  },
  {
   "cell_type": "markdown",
   "metadata": {
    "id": "IbdYW03MDhXQ"
   },
   "source": [
    "Untuk menghapus item pada list, gunakan fungsi del. Ingat bahwa Indeks Python dimulai dari 0:"
   ]
  },
  {
   "cell_type": "code",
   "execution_count": null,
   "metadata": {
    "colab": {
     "base_uri": "https://localhost:8080/"
    },
    "id": "EgpcUvoJDiAo",
    "outputId": "e030e7ba-36a2-45d5-8f37-d83d27381646"
   },
   "outputs": [
    {
     "name": "stdout",
     "output_type": "stream",
     "text": [
      "['kucing', 'rusa', 'gajah']\n"
     ]
    }
   ],
   "source": [
    "binatang = ['kucing', 'rusa', 'badak', 'gajah']\n",
    "del binatang[2]\n",
    "print(binatang)"
   ]
  },
  {
   "cell_type": "markdown",
   "metadata": {
    "id": "ttQr3ahrD2NB"
   },
   "source": [
    "### Slicing pada String\n",
    "\n",
    "Karena string mirip dengan list, maka slicing operator [ ]  juga dapat digunakan pada string untuk mengambil isinya atau bahkan substring. Sebuah string utuh bersifat mutable (bisa diubah), namun elemennya bersifat immutable (tidak bisa diubah)."
   ]
  },
  {
   "cell_type": "code",
   "execution_count": null,
   "metadata": {
    "colab": {
     "base_uri": "https://localhost:8080/"
    },
    "id": "xqUuEoj1D3Dg",
    "outputId": "e63d3e9c-f8e1-42fb-bf90-2166f82ac1a3"
   },
   "outputs": [
    {
     "name": "stdout",
     "output_type": "stream",
     "text": [
      "o\n",
      "World\n"
     ]
    }
   ],
   "source": [
    "s = \"Hello World!\"\n",
    "print(s[4])  \t#ambil karakter kelima dari string s\n",
    "print(s[6:11]) \t\t#ambil karakter ketujuh hingga sebelas dari string s\n"
   ]
  },
  {
   "cell_type": "code",
   "execution_count": null,
   "metadata": {
    "colab": {
     "base_uri": "https://localhost:8080/"
    },
    "id": "qk4ahB_lErZR",
    "outputId": "762b2e9a-818a-4924-c05d-a12927623d0a"
   },
   "outputs": [
    {
     "name": "stdout",
     "output_type": "stream",
     "text": [
      "Halo Dunia!\n"
     ]
    }
   ],
   "source": [
    "s = \"Hello World!\"\n",
    "s = \"Halo Dunia!\"\t#ubah isi string s menjadi \"Halo Dunia!\", seharusnya berhasil karena mutable\n",
    "print (s)"
   ]
  },
  {
   "cell_type": "code",
   "execution_count": null,
   "metadata": {
    "colab": {
     "base_uri": "https://localhost:8080/",
     "height": 182
    },
    "id": "g7MXAOZAEw4o",
    "outputId": "f97ddfbd-c9f4-492f-be07-be3ce6173c39"
   },
   "outputs": [
    {
     "ename": "TypeError",
     "evalue": "ignored",
     "output_type": "error",
     "traceback": [
      "\u001b[0;31m---------------------------------------------------------------------------\u001b[0m",
      "\u001b[0;31mTypeError\u001b[0m                                 Traceback (most recent call last)",
      "\u001b[0;32m<ipython-input-59-cd9cc0371d0b>\u001b[0m in \u001b[0;36m<module>\u001b[0;34m()\u001b[0m\n\u001b[0;32m----> 1\u001b[0;31m \u001b[0ms\u001b[0m\u001b[0;34m[\u001b[0m\u001b[0;36m5\u001b[0m\u001b[0;34m]\u001b[0m\u001b[0;34m=\u001b[0m\u001b[0;34m\"d\"\u001b[0m                      \u001b[0;31m#ubah karakter keenam dari string s menjadi \"d\", seharusnya gagal karena immutable\u001b[0m\u001b[0;34m\u001b[0m\u001b[0;34m\u001b[0m\u001b[0m\n\u001b[0m\u001b[1;32m      2\u001b[0m \u001b[0mprint\u001b[0m \u001b[0;34m(\u001b[0m\u001b[0ms\u001b[0m\u001b[0;34m)\u001b[0m\u001b[0;34m\u001b[0m\u001b[0;34m\u001b[0m\u001b[0m\n",
      "\u001b[0;31mTypeError\u001b[0m: 'str' object does not support item assignment"
     ]
    }
   ],
   "source": [
    "s[5]=\"d\" \t\t      #ubah karakter keenam dari string s menjadi \"d\", seharusnya gagal karena immutable\n",
    "print (s)"
   ]
  },
  {
   "cell_type": "markdown",
   "metadata": {
    "id": "_mffdEttE8SP"
   },
   "source": [
    "## Series dan Data Frame\n",
    "\n"
   ]
  },
  {
   "cell_type": "markdown",
   "metadata": {
    "id": "NNFAw8cbtnK9"
   },
   "source": [
    "### 1. Series\n",
    "\n",
    "Series merupakan struktur data dasar dalam Pandas. Series bisa juga diibaratkan sebagai array satu dimensi seperti halnya yang ada pada numpy array, hanya bedanya mempunyai index dan kita dapat mengontrol index dari setiap elemen tersebut.\n",
    "Struktur data yang bisa ditampung berupa integer, float, dan juga string. Series juga mendukung operasi vektor. Secara definisi, Series tidak dapat mempunyai kolom ganda, untuk masalah ini bisa menggunakan struktur data frame."
   ]
  },
  {
   "cell_type": "code",
   "execution_count": null,
   "metadata": {
    "colab": {
     "base_uri": "https://localhost:8080/"
    },
    "id": "pB6Xz9oxumLG",
    "outputId": "6ed6a54b-dd0d-470a-fdc1-5fe124d24dc4"
   },
   "outputs": [
    {
     "name": "stdout",
     "output_type": "stream",
     "text": [
      "a     2\n",
      "b     4\n",
      "c     6\n",
      "d     8\n",
      "e    10\n",
      "dtype: int64\n",
      "<class 'pandas.core.series.Series'>\n"
     ]
    }
   ],
   "source": [
    "import pandas as pd\n",
    "import numpy as np\n",
    "\n",
    "data = np.array([2,4,6,8,10])\n",
    "nilai_series = pd.Series(data, index=['a','b','c','d','e'])\n",
    "print(nilai_series)\n",
    "print(type(nilai_series))"
   ]
  },
  {
   "cell_type": "markdown",
   "metadata": {
    "id": "gkIB-D4ctr8W"
   },
   "source": [
    "### 2. Data Frame\n",
    "\n",
    "Data frame merupakan tabel/data tabular dengan array dua dimensi yaitu baris dan kolom. Struktur data ini merupakan cara paling standar untuk menyimpan data. Setiap kolom pada Data Frame merupakan objek dari Series, dan baris terdiri dari elemen yang ada pada Series. Contoh berikut menunjukkan pembuatan Data Frame yang sederhana:"
   ]
  },
  {
   "cell_type": "markdown",
   "metadata": {
    "id": "6eNp4PiHZykC"
   },
   "source": [
    "Contoh Data Frame yang nilainya di buat random :"
   ]
  },
  {
   "cell_type": "code",
   "execution_count": null,
   "metadata": {
    "colab": {
     "base_uri": "https://localhost:8080/"
    },
    "id": "e-yd9XvUWGqc",
    "outputId": "30075431-f5cb-4b19-9d2f-789e470b44ac"
   },
   "outputs": [
    {
     "name": "stdout",
     "output_type": "stream",
     "text": [
      "       Satu       Dua      Tiga     Empat      Lima\n",
      "A -1.749765  0.342680  1.153036 -0.252436  0.981321\n",
      "B  0.514219  0.221180 -1.070043 -0.189496  0.255001\n",
      "C -0.458027  0.435163 -0.583595  0.816847  0.672721\n",
      "D -0.104411 -0.531280  1.029733 -0.438136 -1.118318\n",
      "E  1.618982  1.541605 -0.251879 -0.842436  0.184519\n"
     ]
    },
    {
     "data": {
      "text/plain": [
       "pandas.core.frame.DataFrame"
      ]
     },
     "execution_count": 265,
     "metadata": {
      "tags": []
     },
     "output_type": "execute_result"
    }
   ],
   "source": [
    "import pandas as pd\n",
    "import numpy as np\n",
    "\n",
    "np.random.seed(100)\n",
    "dataku = pd.DataFrame(np.random.randn(5,5),[\"A\",\"B\",\"C\",\"D\",\"E\"],[\"Satu\",\"Dua\",\"Tiga\",\"Empat\",\"Lima\"])\n",
    "print(dataku)\n",
    "type(dataku)"
   ]
  },
  {
   "cell_type": "code",
   "execution_count": null,
   "metadata": {
    "colab": {
     "base_uri": "https://localhost:8080/"
    },
    "id": "qmJgtayafAZI",
    "outputId": "7a05ba18-c731-4b9c-c776-f00da8c3a88a"
   },
   "outputs": [
    {
     "data": {
      "text/plain": [
       "(5, 5)"
      ]
     },
     "execution_count": 266,
     "metadata": {
      "tags": []
     },
     "output_type": "execute_result"
    }
   ],
   "source": [
    "# Menghitung banyak baris dan kolom\n",
    "\n",
    "dataku.shape  # Baris dimulai dengan index 0, sedangkan Kolom dimulai dengan index 1"
   ]
  },
  {
   "cell_type": "code",
   "execution_count": null,
   "metadata": {
    "colab": {
     "base_uri": "https://localhost:8080/"
    },
    "id": "RbkyLyvrgVJi",
    "outputId": "26290014-3c82-46e2-950c-37a5177eb0c8"
   },
   "outputs": [
    {
     "name": "stdout",
     "output_type": "stream",
     "text": [
      "       Satu      Dua      Tiga     Empat      Lima\n",
      "A -1.749765  0.34268  1.153036 -0.252436  0.981321\n",
      "D -0.104411 -0.53128  1.029733 -0.438136 -1.118318\n"
     ]
    }
   ],
   "source": [
    "# Memilih data\n",
    "\n",
    "hasil = dataku[dataku[\"Tiga\"]>0]\n",
    "print(hasil)"
   ]
  },
  {
   "cell_type": "markdown",
   "metadata": {
    "id": "fzjNlF3iZ56c"
   },
   "source": [
    "Contoh Data Frame :"
   ]
  },
  {
   "cell_type": "code",
   "execution_count": null,
   "metadata": {
    "colab": {
     "base_uri": "https://localhost:8080/"
    },
    "id": "UBTO60DwE-c9",
    "outputId": "e1e37acd-edd5-451b-e9f0-30221e7157fd"
   },
   "outputs": [
    {
     "name": "stdout",
     "output_type": "stream",
     "text": [
      "            Negara          Ibu Kota    Luas  Populasi\n",
      "0        Indonesia           Jakarta    1905       264\n",
      "1           Jepang             Tokyo  377972       143\n",
      "2            India         New Delhi    3287      1252\n",
      "3            China           Beijing    9597      1357\n",
      "4  Amerika Serikat  Washington, D.C.    9834      5298\n"
     ]
    }
   ],
   "source": [
    "import pandas as pd\n",
    "import numpy as np\n",
    "\n",
    "data1 = {\"Negara\": [\"Indonesia\", \"Jepang\", \"India\", \"China\", \"Amerika Serikat\"],\n",
    "        \"Ibu Kota\": [\"Jakarta\", \"Tokyo\", \"New Delhi\", \"Beijing\", \"Washington, D.C.\"],\n",
    "        \"Luas\": [1905, 377972, 3287, 9597, 9834],\n",
    "        \"Populasi\": [264, 143, 1252, 1357, 5298] }\n",
    "\n",
    "dataku = pd.DataFrame(data1)\n",
    "\n",
    "print(dataku)"
   ]
  },
  {
   "cell_type": "code",
   "execution_count": null,
   "metadata": {
    "colab": {
     "base_uri": "https://localhost:8080/"
    },
    "id": "3G3-QAwzYUcC",
    "outputId": "20e91418-de7e-4254-eba5-570b77cfd4b0"
   },
   "outputs": [
    {
     "name": "stdout",
     "output_type": "stream",
     "text": [
      "            Negara          Ibu Kota    Luas  Populasi Mata Uang\n",
      "0        Indonesia           Jakarta    1905       264    Rupiah\n",
      "1           Jepang             Tokyo  377972       143       Yen\n",
      "2            India         New Delhi    3287      1252     Rupee\n",
      "3            China           Beijing    9597      1357  Renminbi\n",
      "4  Amerika Serikat  Washington, D.C.    9834      5298     Dolar\n"
     ]
    }
   ],
   "source": [
    "import pandas as pd\n",
    "import numpy as np\n",
    "\n",
    "data1 = {\"Negara\": [\"Indonesia\", \"Jepang\", \"India\", \"China\", \"Amerika Serikat\"],\n",
    "        \"Ibu Kota\": [\"Jakarta\", \"Tokyo\", \"New Delhi\", \"Beijing\", \"Washington, D.C.\"],\n",
    "        \"Luas\": [1905, 377972, 3287, 9597, 9834],\n",
    "        \"Populasi\": [264, 143, 1252, 1357, 5298] }\n",
    "\n",
    "dataku = pd.DataFrame(data1)\n",
    "\n",
    "#Menambahkan kolom baru\n",
    "dataku['Mata Uang'] = [\"Rupiah\",\"Yen\",\"Rupee\",\"Renminbi\",\"Dolar\"] \n",
    "\n",
    "print(dataku)"
   ]
  },
  {
   "cell_type": "code",
   "execution_count": null,
   "metadata": {
    "colab": {
     "base_uri": "https://localhost:8080/"
    },
    "id": "HGc19jevab9L",
    "outputId": "b9ff8b09-1e41-4926-f2cf-01e563b4d839"
   },
   "outputs": [
    {
     "name": "stdout",
     "output_type": "stream",
     "text": [
      "            Negara          Ibu Kota  Populasi Mata Uang\n",
      "0        Indonesia           Jakarta       264    Rupiah\n",
      "1           Jepang             Tokyo       143       Yen\n",
      "2            India         New Delhi      1252     Rupee\n",
      "3            China           Beijing      1357  Renminbi\n",
      "4  Amerika Serikat  Washington, D.C.      5298     Dolar\n"
     ]
    }
   ],
   "source": [
    "import pandas as pd\n",
    "import numpy as np\n",
    "\n",
    "data1 = {\"Negara\": [\"Indonesia\", \"Jepang\", \"India\", \"China\", \"Amerika Serikat\"],\n",
    "        \"Ibu Kota\": [\"Jakarta\", \"Tokyo\", \"New Delhi\", \"Beijing\", \"Washington, D.C.\"],\n",
    "        \"Luas\": [1905, 377972, 3287, 9597, 9834],\n",
    "        \"Populasi\": [264, 143, 1252, 1357, 5298] }\n",
    "\n",
    "dataku = pd.DataFrame(data1)\n",
    "\n",
    "# Menambahkan kolom baru\n",
    "dataku['Mata Uang'] = [\"Rupiah\",\"Yen\",\"Rupee\",\"Renminbi\",\"Dolar\"] \n",
    "\n",
    "# Menghapus suatu kolom\n",
    "dataku.drop(\"Luas\",axis=1,inplace=True)\n",
    "\n",
    "print(dataku)"
   ]
  },
  {
   "cell_type": "code",
   "execution_count": null,
   "metadata": {
    "colab": {
     "base_uri": "https://localhost:8080/"
    },
    "id": "m_7IQSAQc4X7",
    "outputId": "b58cfe80-60ef-42fa-e2b8-b38ab245bb4e"
   },
   "outputs": [
    {
     "name": "stdout",
     "output_type": "stream",
     "text": [
      "      Negara   Ibu Kota  Populasi Mata Uang\n",
      "0  Indonesia    Jakarta       264    Rupiah\n",
      "1     Jepang      Tokyo       143       Yen\n",
      "2      India  New Delhi      1252     Rupee\n",
      "3      China    Beijing      1357  Renminbi\n"
     ]
    }
   ],
   "source": [
    "import pandas as pd\n",
    "import numpy as np\n",
    "\n",
    "data1 = {\"Negara\": [\"Indonesia\", \"Jepang\", \"India\", \"China\", \"Amerika Serikat\"],\n",
    "        \"Ibu Kota\": [\"Jakarta\", \"Tokyo\", \"New Delhi\", \"Beijing\", \"Washington, D.C.\"],\n",
    "        \"Luas\": [1905, 377972, 3287, 9597, 9834],\n",
    "        \"Populasi\": [264, 143, 1252, 1357, 5298], }\n",
    "\n",
    "dataku = pd.DataFrame(data1)\n",
    "\n",
    "# Menambahkan kolom baru\n",
    "dataku['Mata Uang'] = [\"Rupiah\",\"Yen\",\"Rupee\",\"Renminbi\",\"Dolar\"] \n",
    "\n",
    "# Menghapus suatu kolom\n",
    "dataku.drop(\"Luas\",axis=1,inplace=True)\n",
    "\n",
    "# Mengapus suatu baris\n",
    "dataku.drop(4,axis=0,inplace=True)\n",
    "\n",
    "print(dataku)"
   ]
  },
  {
   "cell_type": "markdown",
   "metadata": {
    "id": "mUXH7elatKO6"
   },
   "source": [
    "## Indexing Array dan Data Frame"
   ]
  },
  {
   "cell_type": "markdown",
   "metadata": {
    "id": "0zpmiGjZtN_x"
   },
   "source": [
    "### 1. Indexing Array\n",
    "\n",
    "Indeks pada suatu array dimulai pada indeks ke-0. Untuk mengakses element pada array, kita menggunakan indeks sebagai alamat elemen pada array.\n"
   ]
  },
  {
   "cell_type": "code",
   "execution_count": null,
   "metadata": {
    "colab": {
     "base_uri": "https://localhost:8080/"
    },
    "id": "YC0q1l5KBnZ9",
    "outputId": "9285e64b-717b-4d4d-b9c4-ac1ff73ab189"
   },
   "outputs": [
    {
     "name": "stdout",
     "output_type": "stream",
     "text": [
      "30\n",
      "40\n",
      "[20 50]\n",
      "[ 5 10 15 20 50]\n",
      "[30 35 40]\n",
      "[10 20 30]\n"
     ]
    }
   ],
   "source": [
    "array1 = np.array([5,10,15,20,50,30,35,40])\n",
    "print(array1[5])\n",
    "print(array1[-1])\n",
    "print(array1[3:5])\n",
    "print(array1[:5])\n",
    "print(array1[-3:])\n",
    "print(array1[1:7:2])"
   ]
  },
  {
   "cell_type": "code",
   "execution_count": null,
   "metadata": {
    "colab": {
     "base_uri": "https://localhost:8080/"
    },
    "id": "rana_aPUC2pW",
    "outputId": "489c07ca-d714-489d-dc6f-da396f90f56d"
   },
   "outputs": [
    {
     "name": "stdout",
     "output_type": "stream",
     "text": [
      "[[1 2 3]\n",
      " [4 5 6]\n",
      " [7 8 9]]\n",
      "Elemen yang terletak pada baris 3 kolom 1 yaitu 7\n"
     ]
    }
   ],
   "source": [
    "array2 = np.array([[1, 2, 3], [4, 5, 6], [7, 8, 9]])\n",
    "print(array2)\n",
    "print(\"Elemen yang terletak pada baris 3 kolom 1 yaitu\",array2[2,0])"
   ]
  },
  {
   "cell_type": "markdown",
   "metadata": {
    "id": "7GwmVCnMvYdm"
   },
   "source": [
    "### 2. Indexing Data Frame"
   ]
  },
  {
   "cell_type": "code",
   "execution_count": null,
   "metadata": {
    "colab": {
     "base_uri": "https://localhost:8080/"
    },
    "id": "7L_NER0NId8Q",
    "outputId": "8898a8b8-233e-4a4c-8d6c-e08ab4dd7bd2"
   },
   "outputs": [
    {
     "name": "stdout",
     "output_type": "stream",
     "text": [
      "            Negara          Ibu Kota    Luas  Populasi\n",
      "0        Indonesia           Jakarta    1905       264\n",
      "1           Jepang             Tokyo  377972       143\n",
      "2            India         New Delhi    3287      1252\n",
      "3            China           Beijing    9597      1357\n",
      "4  Amerika Serikat  Washington, D.C.    9834      5298\n"
     ]
    }
   ],
   "source": [
    "import pandas as pd\n",
    "import numpy as np\n",
    "\n",
    "data1 = {\"Negara\": [\"Indonesia\", \"Jepang\", \"India\", \"China\", \"Amerika Serikat\"],\n",
    "        \"Ibu Kota\": [\"Jakarta\", \"Tokyo\", \"New Delhi\", \"Beijing\", \"Washington, D.C.\"],\n",
    "        \"Luas\": [1905, 377972, 3287, 9597, 9834],\n",
    "        \"Populasi\": [264, 143, 1252, 1357, 5298] }\n",
    "\n",
    "dataku = pd.DataFrame(data1)\n",
    "\n",
    "print(dataku)"
   ]
  },
  {
   "cell_type": "code",
   "execution_count": null,
   "metadata": {
    "colab": {
     "base_uri": "https://localhost:8080/"
    },
    "id": "5YBd0tm7OrpQ",
    "outputId": "44168bb3-38b8-4c9a-fe0b-e163a0df8566"
   },
   "outputs": [
    {
     "name": "stdout",
     "output_type": "stream",
     "text": [
      "                         Ibu Kota    Luas  Populasi\n",
      "Negara                                             \n",
      "Indonesia                 Jakarta    1905       264\n",
      "Jepang                      Tokyo  377972       143\n",
      "India                   New Delhi    3287      1252\n",
      "China                     Beijing    9597      1357\n",
      "Amerika Serikat  Washington, D.C.    9834      5298\n"
     ]
    }
   ],
   "source": [
    "df = dataku.set_index([\"Negara\"])\n",
    "print(df)"
   ]
  },
  {
   "cell_type": "code",
   "execution_count": null,
   "metadata": {
    "colab": {
     "base_uri": "https://localhost:8080/"
    },
    "id": "CJj9zp5KQM6Y",
    "outputId": "afd7e04a-c1fe-4220-ae3a-9abda9110553"
   },
   "outputs": [
    {
     "name": "stdout",
     "output_type": "stream",
     "text": [
      "Luas Wilayah Indonesia adalah 1905 km persegi\n"
     ]
    }
   ],
   "source": [
    "print(\"Luas Wilayah Indonesia adalah\",df['Luas'][\"Indonesia\"],\"km persegi\")"
   ]
  },
  {
   "cell_type": "markdown",
   "metadata": {
    "id": "-VKjt7mqlcVj"
   },
   "source": [
    "## Variabel\n",
    "\n",
    "Variabel adalah lokasi memori yang dicadangkan untuk menyimpan nilai-nilai. Ini berarti bahwa ketika Anda membuat sebuah variabel Anda memesan beberapa ruang di memori. Variabel menyimpan data yang dilakukan selama program dieksekusi, yang nantinya isi dari variabel tersebut dapat diubah oleh operasi - operasi tertentu pada program yang menggunakan variabel.\n",
    "\n",
    "Variabel dapat menyimpan berbagai macam tipe data. Di dalam pemrograman Python, variabel mempunyai sifat yang dinamis, artinya variabel Python tidak perlu didekralasikan tipe data tertentu dan variabel Python dapat diubah saat program dijalankan.\n",
    "\n",
    "Penulisan variabel Python sendiri juga memiliki aturan tertentu, yaitu :\n",
    "\n",
    "1. Karakter pertama harus berupa huruf atau garis bawah\n",
    "2. Karakter selanjutnya dapat berupa huruf, garis bawahatau angka\n",
    "3. Karakter pada nama variabel bersifat sensitif (case-sensitif). Artinya huruf kecil dan huruf besar dibedakan. Sebagai contoh, variabel namaDepan dan namadepan adalah variabel yang berbeda.\n",
    "\n",
    "Untuk mulai membuat variabel di Python caranya sangat mudah, Anda cukup menuliskan variabel lalu mengisinya dengan suatu nilai dengan cara menambahkan tanda sama dengan = diikuti dengan nilai yang ingin dimasukan."
   ]
  },
  {
   "cell_type": "markdown",
   "metadata": {
    "id": "IKmb5tHTgKnU"
   },
   "source": [
    "## Regular Expresion"
   ]
  },
  {
   "cell_type": "markdown",
   "metadata": {
    "id": "cWG6U1SsyftU"
   },
   "source": [
    "Regular Expresion, sering disebut pola, adalah ekspresi yang digunakan untuk menentukan sekumpulan string yang diperlukan untuk tujuan tertentu."
   ]
  },
  {
   "cell_type": "markdown",
   "metadata": {
    "id": "G2u-v5gxgmG1"
   },
   "source": [
    "### 1. Character Classes\n",
    "* Character Set : Cocokkan semua karakter di set.\n",
    "\n",
    "  Contoh : `[ABC]`\n",
    "\n",
    "* Negated Set : Cocokkan semua karakter yang tidak ada di set\n",
    "\n",
    "  Contoh : `[^ABC]`\n",
    "\n",
    "* Range : Mencocokkan karakter yang memiliki kode karakter di antara dua karakter yang ditentukan, termasuk.\n",
    "\n",
    "  Contoh : `[A-Z]`\n",
    "\n",
    "* Dot : Mencocokkan karakter apa pun kecuali penggalan baris. Setara dengan `[^\\ n\\r]`\n",
    "\n",
    "  Contoh : `.`\n",
    "\n",
    "* Match Any : Alternatifnya adalah [^], tetapi tidak didukung di semua browser.\n",
    "\n",
    "  Contoh : `[\\s\\S]`\n",
    "\n",
    "* Word : Cocok dengan semua karakter kata (alfanumerik & garis bawah). Hanya cocok dengan karakter ascii rendah (tidak ada karakter beraksen atau non-romawi). Setara dengan `[A-Za-z0-9_]`\n",
    "\n",
    "  Contoh : `\\w`\n",
    "\n",
    "* Not Word : Cocok dengan semua karakter yang bukan karakter kata (alfanumerik dan garis bawah). Setara dengan `[^ A-Za-z0-9_]`\n",
    "\n",
    "  Contoh : `\\W`\n",
    "\n",
    "* Digit : Cocok dengan karakter digit apa pun (0-9). Setara dengan `[0-9]`.\n",
    "\n",
    "  Contoh : `/d`\n",
    "\n",
    "* Not Digit : Cocok dengan semua karakter yang bukan karakter digit (0-9). Setara dengan `[^ 0-9]`.\n",
    "\n",
    "  Contoh : `/D`\n",
    "\n",
    "* Whitespace : Cocok dengan semua karakter spasi (spasi, tab, jeda baris)\n",
    "\n",
    "  Contoh : `\\s`\n",
    "\n",
    "* Not Whitespace : Mencocokkan semua karakter yang bukan karakter spasi (spasi, tab, jeda baris).\n",
    "\n",
    "  Contoh : `\\S`\n",
    "\n",
    "* Unicode Category : Cocok dengan karakter dalam kategori unicode yang ditentukan. \n",
    "  \n",
    "  Contoh : `\\p{Ll}` akan cocok dengan semua huruf kecil.\n",
    "\n",
    "* Not Unicode Category : Cocok dengan semua karakter yang tidak ada dalam kategori unicode yang ditentukan.\n",
    "\n",
    "  Contoh : `\\P{Ll}`\n",
    "* Unicode Script : Cocok dengan semua karakter dalam skrip unicode yang ditentukan. \n",
    "\n",
    "  Contoh : `\\p{Arab}` akan mencocokkan karakter dalam skrip Arab.\n",
    "  \n",
    "* Not Unicode Script : Cocok dengan semua karakter yang tidak ada dalam skrip unicode yang ditentukan.\n",
    "\n",
    "  Contoh : `\\P{Arab}`\n",
    "  "
   ]
  },
  {
   "cell_type": "code",
   "execution_count": null,
   "metadata": {
    "colab": {
     "base_uri": "https://localhost:8080/"
    },
    "id": "cd2kB7ZP20v7",
    "outputId": "5e197eb6-66c9-4e79-d55c-eb9ae7703e67"
   },
   "outputs": [
    {
     "data": {
      "text/plain": [
       "['licence', 'license', 'licence']"
      ]
     },
     "execution_count": 277,
     "metadata": {
      "tags": []
     },
     "output_type": "execute_result"
    }
   ],
   "source": [
    "# Contoh Character Set\n",
    "\n",
    "import re\n",
    "txt = \"\"\"\n",
    "Yesterday, I was driving my car without a driving licence. The traffic police stopped me and asked me for my \n",
    "license. I told them that I forgot my licence at home. \n",
    "\"\"\"\n",
    "pattern = re.compile(\"licen[cs]e\")\n",
    "pattern.findall(txt)"
   ]
  },
  {
   "cell_type": "code",
   "execution_count": null,
   "metadata": {
    "colab": {
     "base_uri": "https://localhost:8080/"
    },
    "id": "NRJxwn8U3Gir",
    "outputId": "d204f201-7896-4fed-da64-8f4839e8e379"
   },
   "outputs": [
    {
     "data": {
      "text/plain": [
       "['2008', '2009', '2018', '2010', '2011', '2013', '2015', '2017']"
      ]
     },
     "execution_count": 278,
     "metadata": {
      "tags": []
     },
     "output_type": "execute_result"
    }
   ],
   "source": [
    "# Contoh Range\n",
    "\n",
    "txt = \"\"\"\n",
    "The first season of Indian Premiere League (IPL) was played in 2008. \n",
    "The second season was played in 2009 in South Africa. \n",
    "Last season was played in 2018 and won by Chennai Super Kings (CSK).\n",
    "CSK won the title in 2010 and 2011 as well.\n",
    "Mumbai Indians (MI) has also won the title 3 times in 2013, 2015 and 2017\n",
    "\"\"\"\n",
    "pattern = re.compile(\"[1-9][0-9][0-9][0-9]\")\n",
    "pattern.findall(txt)"
   ]
  },
  {
   "cell_type": "code",
   "execution_count": null,
   "metadata": {
    "colab": {
     "base_uri": "https://localhost:8080/"
    },
    "id": "h9MVkL9W3PaJ",
    "outputId": "cc9ecd68-a05e-42ba-8679-f0050cbb0c47"
   },
   "outputs": [
    {
     "data": {
      "text/plain": [
       "['D', 's', 'c', 'n', 't', ' ', 'B', 't', 'c', 'm', 'p']"
      ]
     },
     "execution_count": 279,
     "metadata": {
      "tags": []
     },
     "output_type": "execute_result"
    }
   ],
   "source": [
    "# Contoh Negated Set\n",
    "\n",
    "txt = \"Descent Bootcamp\"\n",
    "pattern = re.compile(\"[^aeiou]\")\n",
    "pattern.findall(txt)"
   ]
  },
  {
   "cell_type": "code",
   "execution_count": null,
   "metadata": {
    "colab": {
     "base_uri": "https://localhost:8080/"
    },
    "id": "sJ_LYFSa3gN6",
    "outputId": "07c75357-3044-4988-94c2-f925df8e01c1"
   },
   "outputs": [
    {
     "data": {
      "text/plain": [
       "['e', 'e', 'o', 'o', 'a']"
      ]
     },
     "execution_count": 280,
     "metadata": {
      "tags": []
     },
     "output_type": "execute_result"
    }
   ],
   "source": [
    "# Contoh Character Set\n",
    "\n",
    "txt = \"Descent Bootcamp\"\n",
    "pattern = re.compile(\"[aeiou]\")\n",
    "pattern.findall(txt)"
   ]
  },
  {
   "cell_type": "code",
   "execution_count": null,
   "metadata": {
    "colab": {
     "base_uri": "https://localhost:8080/"
    },
    "id": "ko1V8aUD5eBa",
    "outputId": "fd674269-9bc4-45e0-8296-25d92476ce1d"
   },
   "outputs": [
    {
     "data": {
      "text/plain": [
       "[' ']"
      ]
     },
     "execution_count": 281,
     "metadata": {
      "tags": []
     },
     "output_type": "execute_result"
    }
   ],
   "source": [
    "# Contoh Whitespace\n",
    "\n",
    "txt = \"Hari ini.\"\n",
    "re.findall(\"[\\s]\", txt)"
   ]
  },
  {
   "cell_type": "code",
   "execution_count": null,
   "metadata": {
    "colab": {
     "base_uri": "https://localhost:8080/"
    },
    "id": "zKrc865o8_Jj",
    "outputId": "af41ea2a-b93a-4d1d-9d7c-fda722cf30a1"
   },
   "outputs": [
    {
     "data": {
      "text/plain": [
       "['H', 'a', 'r', 'i', 'i', 'n', 'i', '.']"
      ]
     },
     "execution_count": 282,
     "metadata": {
      "tags": []
     },
     "output_type": "execute_result"
    }
   ],
   "source": [
    "# Contoh Not Whitespace\n",
    "\n",
    "txt = \"Hari ini.\"\n",
    "re.findall(\"[\\S]\", txt)"
   ]
  },
  {
   "cell_type": "code",
   "execution_count": null,
   "metadata": {
    "colab": {
     "base_uri": "https://localhost:8080/"
    },
    "id": "8vGXmNmV7KIi",
    "outputId": "07b0caf2-d992-4b9c-acd5-a6f54a70edf5"
   },
   "outputs": [
    {
     "data": {
      "text/plain": [
       "['H', 'a', 'r', 'i', 'i', 'n', 'i']"
      ]
     },
     "execution_count": 283,
     "metadata": {
      "tags": []
     },
     "output_type": "execute_result"
    }
   ],
   "source": [
    "# Contoh Word\n",
    "\n",
    "txt = \"Hari ini .\"\n",
    "re.findall(\"[\\w]\", txt)"
   ]
  },
  {
   "cell_type": "code",
   "execution_count": null,
   "metadata": {
    "colab": {
     "base_uri": "https://localhost:8080/"
    },
    "id": "rgnV89-K7w4J",
    "outputId": "b6e78cf7-6053-452a-bd3f-fa45c72e3f6a"
   },
   "outputs": [
    {
     "data": {
      "text/plain": [
       "[' ', '.']"
      ]
     },
     "execution_count": 284,
     "metadata": {
      "tags": []
     },
     "output_type": "execute_result"
    }
   ],
   "source": [
    "# Contoh Not Word\n",
    "\n",
    "txt = \"Saya mengantuk.\"\n",
    "re.findall(\"\\W\", txt)"
   ]
  },
  {
   "cell_type": "code",
   "execution_count": null,
   "metadata": {
    "colab": {
     "base_uri": "https://localhost:8080/"
    },
    "id": "4wFAK2Oy8X4O",
    "outputId": "10571178-250f-4af4-fd22-8a6cd426f9a2"
   },
   "outputs": [
    {
     "data": {
      "text/plain": [
       "['2', '0', '0', '2']"
      ]
     },
     "execution_count": 285,
     "metadata": {
      "tags": []
     },
     "output_type": "execute_result"
    }
   ],
   "source": [
    "# Contoh Digit\n",
    "\n",
    "txt = \"Saya lahir tahun 2002.\"\n",
    "re.findall(\"\\d\", txt)"
   ]
  },
  {
   "cell_type": "code",
   "execution_count": null,
   "metadata": {
    "colab": {
     "base_uri": "https://localhost:8080/"
    },
    "id": "743-zq8M8hJB",
    "outputId": "2d61556f-50a2-4029-f503-66778165019d"
   },
   "outputs": [
    {
     "data": {
      "text/plain": [
       "['T', 'a', 'h', 'u', 'n', ' ', '.']"
      ]
     },
     "execution_count": 286,
     "metadata": {
      "tags": []
     },
     "output_type": "execute_result"
    }
   ],
   "source": [
    "# Contoh Non Digit\n",
    "\n",
    "txt = \"Tahun 2021.\"\n",
    "re.findall(\"\\D\", txt)"
   ]
  },
  {
   "cell_type": "markdown",
   "metadata": {
    "id": "o50d_vRXHcqI"
   },
   "source": [
    "### 2. Anchors\n",
    "* Beginning `^` : Cocok dengan awal string, atau awal baris jika multiline flag (m) diaktifkan. Ini cocok dengan posisi, bukan karakter. `^`\n",
    "\n",
    "  Contoh : `^\\w+`\n",
    "\n",
    "* End `$` : Cocok dengan akhir string, atau akhir baris jika multiline flag (m) diaktifkan. Ini cocok dengan posisi, bukan karakter. \n",
    "\n",
    "  Contoh : `\\w+$`\n",
    "\n",
    "* Word Boundary `\\b`: Mencocokkan posisi batas kata antara karakter kata dan karakter atau posisi non-kata (awal / akhir string).\n",
    "\n",
    "  Contoh : `s\\b`\n",
    "\n",
    "* Not Word Boundary `\\B` : Cocok dengan posisi apa pun yang bukan merupakan batas kata. Ini cocok dengan posisi, bukan karakter.\n",
    "\n",
    "  Contoh : `s\\B`\n"
   ]
  },
  {
   "cell_type": "code",
   "execution_count": null,
   "metadata": {
    "colab": {
     "base_uri": "https://localhost:8080/"
    },
    "id": "PbfmNGX1_coB",
    "outputId": "066aa113-bf2a-4d2c-95ea-cf01cc861908"
   },
   "outputs": [
    {
     "data": {
      "text/plain": [
       "['she']"
      ]
     },
     "execution_count": 287,
     "metadata": {
      "tags": []
     },
     "output_type": "execute_result"
    }
   ],
   "source": [
    "# Contoh Beginning\n",
    "\n",
    "txt = \"she sells seashells\"\n",
    "pattern = re.compile(\"^\\w+\")\n",
    "pattern.findall(txt)"
   ]
  },
  {
   "cell_type": "code",
   "execution_count": null,
   "metadata": {
    "colab": {
     "base_uri": "https://localhost:8080/"
    },
    "id": "8jByCdlN0ItR",
    "outputId": "0056a57c-5d44-4e07-901c-e4400db642f9"
   },
   "outputs": [
    {
     "data": {
      "text/plain": [
       "['seashells']"
      ]
     },
     "execution_count": 288,
     "metadata": {
      "tags": []
     },
     "output_type": "execute_result"
    }
   ],
   "source": [
    "# Contoh End \n",
    "\n",
    "txt = \"she sells seashells\"\n",
    "pattern = re.compile(\"\\w+$\")\n",
    "pattern.findall(txt)"
   ]
  },
  {
   "cell_type": "code",
   "execution_count": null,
   "metadata": {
    "colab": {
     "base_uri": "https://localhost:8080/"
    },
    "id": "xKxuuQ9D09Dp",
    "outputId": "9f45f02a-d54e-4fe8-e86d-d05ea3036520"
   },
   "outputs": [
    {
     "data": {
      "text/plain": [
       "['s', 's', 's', 's']"
      ]
     },
     "execution_count": 289,
     "metadata": {
      "tags": []
     },
     "output_type": "execute_result"
    }
   ],
   "source": [
    "# Contoh Word Not Boundary\n",
    "\n",
    "txt = \"she sells seashells\"\n",
    "pattern = re.compile(\"s\\B\")\n",
    "pattern.findall(txt)"
   ]
  },
  {
   "cell_type": "markdown",
   "metadata": {
    "id": "rB0hDUErLI0n"
   },
   "source": [
    "### 3. Escaped Characters\n",
    "\n",
    "* Reserved Characters : Karakter berikut memiliki arti khusus, dan harus diawali dengan \\ (garis miring terbalik) untuk mewakili karakter literal: `+*?^$\\.[]{}()|/` \n",
    "\n",
    "  Contoh : `\\+`\n",
    "\n",
    "* Octal Escape : Karakter lolos oktal dalam bentuk `\\000`. Nilai harus kurang dari `255 (\\ 377)`.\n",
    "\n",
    "  Contoh : `\\251`\n",
    "\n",
    "* Hexadecimal Escape : Karakter pelolosan heksadesimal dalam bentuk `\\xFF`\n",
    "\n",
    "  Contoh : `\\xA9`\n",
    "\n",
    "* Unicode Escape : Unicode lolos karakter dalam bentuk `\\ uFFFF`\n",
    "\n",
    "  Contoh : `\\u00A9`\n",
    "\n",
    "* Extended Unicode Escape : Unicode lolos karakter dalam bentuk `\\u{FFFF}` Mendukung berbagai pelarian titik unicode dengan sejumlah digit hex.\n",
    "\n",
    "* Control Character Escape : Karakter kontrol lolos dalam bentuk `\\cZ`. Ini dapat berkisar dari `\\cA` (SOH, kode karakter 1) hingga `\\cZ` (SUB, kode karakter 26).\n",
    "\n",
    "  Contoh : `\\cI` cocok dengan TAB (kode karakter 9).\n",
    "\n",
    "* Tab : Cocok dengan karakter TAB (kode karakter 9).\n",
    "\n",
    "  Contoh : `\\t`\n",
    "\n",
    "* Line Feed : Cocok dengan karakter LINE FEED (kode karakter 10)\n",
    "\n",
    "  Contoh : `\\n`\n",
    "\n",
    "* Vertical Tab : Cocok dengan karakter VERTICAL TAB (kode karakter 11).\n",
    "\n",
    "  Contoh : `\\v`\n",
    "\n",
    "* Form Feed : Cocok dengan karakter FORM FEED (kode karakter 12)\n",
    "\n",
    "  Contoh : `\\f`\n",
    "\n",
    "* Carriage Return : Cocok dengan karakter CARRIAGE RETURN (kode karakter 13).\n",
    "\n",
    "  Contoh : `\\r`\n",
    "\n",
    "* Null : Matches a NULL character (char code 0).\n",
    "\n",
    "  Contoh : `\\0`\n",
    "\n"
   ]
  },
  {
   "cell_type": "code",
   "execution_count": null,
   "metadata": {
    "colab": {
     "base_uri": "https://localhost:8080/"
    },
    "id": "CUWJdBqS1rVR",
    "outputId": "5431610b-7d0f-45cf-ad50-654323533c31"
   },
   "outputs": [
    {
     "data": {
      "text/plain": [
       "['+']"
      ]
     },
     "execution_count": 290,
     "metadata": {
      "tags": []
     },
     "output_type": "execute_result"
    }
   ],
   "source": [
    "# Contoh Reserved Characters\n",
    "\n",
    "txt = \"1 + 1 = 2\"\n",
    "pattern = re.compile(\"\\+\")\n",
    "pattern.findall(txt)"
   ]
  },
  {
   "cell_type": "markdown",
   "metadata": {
    "id": "2EF7w7sTOm_6"
   },
   "source": [
    "### 4. Group & References\n",
    "\n",
    "* Capturing Group : Mengelompokkan beberapa token menjadi satu dan membuat grup tangkapan untuk mengekstraksi substring atau menggunakan referensi latar.\n",
    "\n",
    "  Contoh : `(ha)+`\n",
    "\n",
    "* Named Capturing Group : Membuat grup penangkap yang dapat direferensikan melalui nama yang ditentukan.\n",
    "\n",
    "  Contoh : `(?<name>ha)+`\n",
    "\n",
    "* Numeric Refereces : Cocok dengan hasil penangkapan grup. Misalnya \\ 1 cocok dengan hasil dari grup penangkapan pertama & \\ 3 cocok dengan yang ketiga.\n",
    "\n",
    "  Contoh : `(\\w)a\\1`\n",
    "\n",
    "* Non-Capturing Group : Mengelompokkan beberapa token bersama-sama tanpa membuat grup tangkap.\n",
    "\n",
    "  Contoh : `(?:ha)+`"
   ]
  },
  {
   "cell_type": "code",
   "execution_count": null,
   "metadata": {
    "colab": {
     "base_uri": "https://localhost:8080/"
    },
    "id": "3pkD3CA8BiTh",
    "outputId": "98d2663b-903f-43ef-97ff-1221a8eca359"
   },
   "outputs": [
    {
     "data": {
      "text/plain": [
       "['abbbbb', 'abbbb']"
      ]
     },
     "execution_count": 291,
     "metadata": {
      "tags": []
     },
     "output_type": "execute_result"
    }
   ],
   "source": [
    "# Contoh Capturing Group\n",
    "\n",
    "txt = \"abbbbbabbbb\"\n",
    "pattern = re.compile(\"ab+\")\n",
    "pattern.findall(txt)"
   ]
  },
  {
   "cell_type": "code",
   "execution_count": null,
   "metadata": {
    "colab": {
     "base_uri": "https://localhost:8080/"
    },
    "id": "ThOUw8_SB17Z",
    "outputId": "64e78e3d-94b2-482c-fefe-fa854a0617ff"
   },
   "outputs": [
    {
     "data": {
      "text/plain": [
       "['ab', 'ab']"
      ]
     },
     "execution_count": 292,
     "metadata": {
      "tags": []
     },
     "output_type": "execute_result"
    }
   ],
   "source": [
    "pattern = re.compile(\"(ab)+\")\n",
    "pattern.findall(txt)"
   ]
  },
  {
   "cell_type": "markdown",
   "metadata": {
    "id": "I0ql_U4-Pv4G"
   },
   "source": [
    "### 5. Lookaround\n",
    "\n",
    "* Positive Lookahead : Mencocokkan grup setelah ekspresi utama tanpa menyertakannya dalam hasil.\n",
    "\n",
    "  Contoh : `\\d(?=px)`\n",
    "\n",
    "* Negative Lookahead : Menentukan grup yang tidak bisa cocok setelah ekspresi utama (jika cocok, hasilnya akan dibuang).\n",
    "\n",
    "  Contoh : `\\d(?!px)`\n",
    "\n",
    "* Positive Lookbehind : Mencocokkan grup sebelum ekspresi utama tanpa menyertakannya dalam hasil.\n",
    "\n",
    "  Contoh : `(?<=ABC)`\n",
    "\n",
    "* Negative Lookbehind : Menentukan grup yang tidak bisa cocok sebelum ekspresi utama (jika cocok, hasilnya akan dibuang).\n",
    "\n",
    "  Contoh : `(?<!ABC)`"
   ]
  },
  {
   "cell_type": "code",
   "execution_count": null,
   "metadata": {
    "colab": {
     "base_uri": "https://localhost:8080/"
    },
    "id": "TIfe6ezdC2wi",
    "outputId": "e1a7a7e5-13e6-4f37-be53-926d15854350"
   },
   "outputs": [
    {
     "data": {
      "text/plain": [
       "['2', '4']"
      ]
     },
     "execution_count": 293,
     "metadata": {
      "tags": []
     },
     "output_type": "execute_result"
    }
   ],
   "source": [
    "# Contoh Positive Lookahead\n",
    "\n",
    "txt = \"1pt 2px 3em 4px\"\n",
    "pattern = re.compile(\"\\d(?=px)\")\n",
    "pattern.findall(txt)"
   ]
  },
  {
   "cell_type": "code",
   "execution_count": null,
   "metadata": {
    "colab": {
     "base_uri": "https://localhost:8080/"
    },
    "id": "qrQIw7q-DA4l",
    "outputId": "58f88ef6-819d-4e32-ff04-2fbc8d514946"
   },
   "outputs": [
    {
     "data": {
      "text/plain": [
       "['1', '3']"
      ]
     },
     "execution_count": 294,
     "metadata": {
      "tags": []
     },
     "output_type": "execute_result"
    }
   ],
   "source": [
    "# Contoh Negative Lookahead\n",
    "\n",
    "txt = \"1pt 2px 3em 4px\"\n",
    "pattern = re.compile(\"\\d(?!px)\")\n",
    "pattern.findall(txt)"
   ]
  },
  {
   "cell_type": "markdown",
   "metadata": {
    "id": "kOeAyf33VK72"
   },
   "source": [
    "### 6. Quantifiers & Alternation\n",
    "\n",
    "* Plus `+` : Cocok dengan 1 atau lebih dari token sebelumnya.\n",
    "\n",
    "  Contoh : `b\\w+`\n",
    "\n",
    "* Star `*`: Cocok dengan 0 atau lebih dari token sebelumnya.\n",
    "\n",
    "  Contoh : `b\\w*`\n",
    "\n",
    "* Quantifier `{}` : Cocok dengan jumlah yang ditentukan dari token sebelumnya. {1,3} akan mencocokkan 1 dengan 3. {3} akan cocok persis dengan 3. {3,} akan cocok dengan 3 atau lebih.\n",
    "\n",
    "  Contoh : `b\\w{2,3}`\n",
    "\n",
    "* Optional `?`: Mencocokkan 0 atau 1 dari token sebelumnya, menjadikannya opsional.\n",
    "\n",
    "  Contoh : `colou?r`\n",
    "\n",
    "* Lazy `?` : Membuat pembilang sebelumnya malas, menyebabkannya mencocokkan karakter sesedikit mungkin. Secara default, pembilang serakah, dan akan mencocokkan karakter sebanyak mungkin.\n",
    "\n",
    "  Contoh : `b\\w+?`\n",
    "\n",
    "* Alternation : Bertindak seperti boolean OR. Cocok dengan ekspresi sebelum atau sesudah |.\n",
    "Itu dapat beroperasi dalam kelompok, atau seluruh ekspresi. Pola akan diuji secara berurutan.\n",
    "\n",
    "  Contoh : `b(a|e|i)d`"
   ]
  },
  {
   "cell_type": "code",
   "execution_count": null,
   "metadata": {
    "colab": {
     "base_uri": "https://localhost:8080/"
    },
    "id": "_pWkiLfg5DQK",
    "outputId": "8b1f06e2-30e1-4c5b-8bbe-422f371784e5"
   },
   "outputs": [
    {
     "data": {
      "text/plain": [
       "['be', 'bee', 'beer', 'beers']"
      ]
     },
     "execution_count": 295,
     "metadata": {
      "tags": []
     },
     "output_type": "execute_result"
    }
   ],
   "source": [
    "# Contoh Plus\n",
    "\n",
    "txt = \"b be bee beer beers\"\n",
    "pattern = re.compile(\"b\\w+\")\n",
    "pattern.findall(txt)"
   ]
  },
  {
   "cell_type": "code",
   "execution_count": null,
   "metadata": {
    "colab": {
     "base_uri": "https://localhost:8080/"
    },
    "id": "7gfqp40N5R9f",
    "outputId": "fdf9ef50-511a-4f8d-a46a-a4b02f9de5a5"
   },
   "outputs": [
    {
     "data": {
      "text/plain": [
       "['b', 'be', 'bee', 'beer', 'beers']"
      ]
     },
     "execution_count": 296,
     "metadata": {
      "tags": []
     },
     "output_type": "execute_result"
    }
   ],
   "source": [
    "# Contoh Star\n",
    "\n",
    "txt = \"b be bee beer beers\"\n",
    "pattern = re.compile(\"b\\w*\")\n",
    "pattern.findall(txt)"
   ]
  },
  {
   "cell_type": "code",
   "execution_count": null,
   "metadata": {
    "colab": {
     "base_uri": "https://localhost:8080/"
    },
    "id": "p_HPPQZc5V_S",
    "outputId": "bf61d9bb-627f-45db-feed-79d208df19e1"
   },
   "outputs": [
    {
     "data": {
      "text/plain": [
       "['be', 'bee', 'beer', 'beer']"
      ]
     },
     "execution_count": 297,
     "metadata": {
      "tags": []
     },
     "output_type": "execute_result"
    }
   ],
   "source": [
    "# Contoh Quantifier\n",
    "\n",
    "txt = \"b be bee beer beers\"\n",
    "pattern = re.compile(\"b\\w{1,3}\")\n",
    "pattern.findall(txt)"
   ]
  },
  {
   "cell_type": "code",
   "execution_count": null,
   "metadata": {
    "colab": {
     "base_uri": "https://localhost:8080/"
    },
    "id": "xK6GWLFV6mCs",
    "outputId": "57fd7755-04c1-4364-e69b-909a896fd9d0"
   },
   "outputs": [
    {
     "data": {
      "text/plain": [
       "['Siapa', 'Dimana']"
      ]
     },
     "execution_count": 298,
     "metadata": {
      "tags": []
     },
     "output_type": "execute_result"
    }
   ],
   "source": [
    "# Contoh Alternation\n",
    "\n",
    "txt = \"\"\"\n",
    "Siapa namamu ?\n",
    "Dimana rumahmu ?\n",
    "\"\"\"\n",
    "pattern = re.compile(\"Siapa|Dimana\")\n",
    "pattern.findall(txt)"
   ]
  },
  {
   "cell_type": "code",
   "execution_count": null,
   "metadata": {
    "colab": {
     "base_uri": "https://localhost:8080/"
    },
    "id": "uGNvxawN5zW4",
    "outputId": "1ae9cd4f-a390-4d6a-daf5-c0b7a37e3b3b"
   },
   "outputs": [
    {
     "data": {
      "text/plain": [
       "['dogs', 'dog', 'dogs']"
      ]
     },
     "execution_count": 299,
     "metadata": {
      "tags": []
     },
     "output_type": "execute_result"
    }
   ],
   "source": [
    "# Contoh Opsional\n",
    "\n",
    "txt = \"\"\"\n",
    "I have 2 dogs. One dog is 1 year old and other one is 2 years old. Both dogs are very cute! \n",
    "\"\"\"\n",
    "pattern = re.compile(\"dogs?\")\n",
    "pattern.findall(txt)"
   ]
  },
  {
   "cell_type": "markdown",
   "metadata": {
    "id": "5w-xo6KFWT2Q"
   },
   "source": [
    "### 7. Substitution\n",
    "\n",
    "* Match : Menyisipkan teks yang cocok.\n",
    "\n",
    "  Contoh : `$&`\n",
    "\n",
    "* Capture Group : Menyisipkan hasil dari grup penangkapan tertentu. \n",
    " \n",
    "  Contoh : `$3`\n",
    "\n",
    "* Before Match :  Menyisipkan bagian dari string sumber yang mendahului pertandingan.\n",
    "\n",
    "  Contoh : `$` `\n",
    "\n",
    "* After Match : Menyisipkan bagian dari string sumber yang mengikuti pertandingan.\n",
    "\n",
    "  Contoh : `$'`\n",
    "\n",
    "* Escaped : Menyisipkan karakter tanda dolar\n",
    "\n",
    "  Contoh : `$$`\n",
    "\n",
    "* Escaped Characters : Demi kenyamanan, karakter yang lolos ini didukung dalam Ganti string di RegExr: \\ n, \\ r, \\ t, \\\\, dan pelolosan unicode \\ uFFFF. Ini mungkin berbeda di lingkungan penerapan Anda.\n",
    "\n",
    "  Contoh : `\\n`"
   ]
  },
  {
   "cell_type": "code",
   "execution_count": null,
   "metadata": {
    "colab": {
     "base_uri": "https://localhost:8080/",
     "height": 35
    },
    "id": "qRiEVeUF_zJg",
    "outputId": "a66f0b6f-ed21-4d7b-e9f3-e691900072b5"
   },
   "outputs": [
    {
     "data": {
      "application/vnd.google.colaboratory.intrinsic+json": {
       "type": "string"
      },
      "text/plain": [
       "'0 Kucing, 0 Anjing, 0 Kelinci'"
      ]
     },
     "execution_count": 300,
     "metadata": {
      "tags": []
     },
     "output_type": "execute_result"
    }
   ],
   "source": [
    "txt = \"100 Kucing, 23 Anjing, 3 Kelinci\"\n",
    "pattern = re.compile(\"\\d+\")\n",
    "pattern.sub(\"0\", txt)"
   ]
  },
  {
   "cell_type": "code",
   "execution_count": null,
   "metadata": {
    "colab": {
     "base_uri": "https://localhost:8080/",
     "height": 35
    },
    "id": "bZt1RSePE6DA",
    "outputId": "cd930d83-c0c0-4330-ed81-b7299015cad3"
   },
   "outputs": [
    {
     "data": {
      "application/vnd.google.colaboratory.intrinsic+json": {
       "type": "string"
      },
      "text/plain": [
       "'100 Ayam '"
      ]
     },
     "execution_count": 332,
     "metadata": {
      "tags": []
     },
     "output_type": "execute_result"
    }
   ],
   "source": [
    "txt = \"100 Kucing\"\n",
    "pattern = re.compile(\"\\D+\")\n",
    "pattern.sub(\" Ayam \", txt)"
   ]
  },
  {
   "cell_type": "markdown",
   "metadata": {
    "id": "cMvHbofQX9Tm"
   },
   "source": [
    "### 8. Flag\n",
    "\n",
    "* Ignore Case : Membuat seluruh ekspresi peka huruf besar kecil. Misalnya, `/ aBc / i` akan cocok dengan AbC.\n",
    "\n",
    "  Contoh : `I`\n",
    "\n",
    "* Global Search : Pertahankan indeks dari pertandingan terakhir, yang memungkinkan pencarian berikutnya dimulai dari akhir pertandingan sebelumnya. Tanpa global flag, penelusuran selanjutnya akan mengembalikan kecocokan yang sama.\n",
    "\n",
    "  Contoh : `G`\n",
    "\n",
    "* Multiline : Ketika bendera multiline diaktifkan, jangkar awal dan akhir `(^ dan $)` akan cocok dengan awal dan akhir baris, bukan awal dan akhir seluruh string.\n",
    "Perhatikan bahwa pola seperti `/ ^ [\\ s \\ S] + $ / m` dapat mengembalikan kecocokan yang menjangkau beberapa baris karena jangkar akan cocok dengan awal / akhir baris mana pun.\n",
    "\n",
    "  Contoh : `M`\n",
    "\n",
    "* Unicode : Jika bendera unicode diaktifkan, Anda dapat menggunakan pelolosan unicode yang diperluas dalam bentuk `\\ x {FFFFF}`. Itu juga membuat pelarian lain lebih ketat, menyebabkan pelarian yang tidak dikenali (mis. `\\J`) menimbulkan kesalahan.\n",
    "\n",
    "  Contoh : `U`\n",
    "\n",
    "* Sticky : Ekspresi tersebut hanya akan cocok dari posisi lastIndex-nya dan mengabaikan tanda global (g) jika disetel. Karena setiap penelusuran di RegExr bersifat terpisah, tanda ini tidak berdampak lebih jauh pada hasil yang ditampilkan.\n",
    "\n",
    "  Contoh : `Y`\n",
    "\n",
    "* Dotall : Titik (.) Akan cocok dengan karakter apapun, termasuk baris baru.\n",
    "\n",
    "  Contoh : `S`"
   ]
  },
  {
   "cell_type": "code",
   "execution_count": null,
   "metadata": {
    "colab": {
     "base_uri": "https://localhost:8080/"
    },
    "id": "gUlAeAXLDrJk",
    "outputId": "6e1e1822-03e1-4c4a-d69c-bef519d534f9"
   },
   "outputs": [
    {
     "data": {
      "text/plain": [
       "['North Korea', 'North Korea.', 'north korea', 'North Korea.']"
      ]
     },
     "execution_count": 320,
     "metadata": {
      "tags": []
     },
     "output_type": "execute_result"
    }
   ],
   "source": [
    "# Contoh Ignore Case\n",
    "\n",
    "import re\n",
    "\n",
    "txt =\"\"\"\n",
    "U.S. stock-index futures pointed\n",
    "to a solidly higher open on \n",
    "Monday, indicating that major \n",
    "benchmarks were poised to rebound \n",
    "from last week’s sharp decline, \n",
    "which represented their biggest weekly drops in months.\n",
    "That weakness was driven in part by \n",
    "fears over North Korea, where tensions \n",
    "with the U.S. have been escalating. \n",
    "North Korea. That issue overshadowed the state of \n",
    "the equity market, where earnings \n",
    "have been strong at a time of high \n",
    "employment and low inflation, \n",
    "as well as valuations that a\n",
    "ppear elevated by many metrics, north korea North Korea.\n",
    "\n",
    "\"\"\"\n",
    "\n",
    "re.findall('North Korea\\.?', txt, flags = re.I )"
   ]
  },
  {
   "cell_type": "code",
   "execution_count": null,
   "metadata": {
    "colab": {
     "base_uri": "https://localhost:8080/"
    },
    "id": "GVc2oC8vC4yH",
    "outputId": "acb160cc-db0c-4e0d-c218-79d9815ecca9"
   },
   "outputs": [
    {
     "data": {
      "text/plain": [
       "<_sre.SRE_Match object; span=(332, 344), match='North Korea.'>"
      ]
     },
     "execution_count": 316,
     "metadata": {
      "tags": []
     },
     "output_type": "execute_result"
    }
   ],
   "source": [
    "# Contoh Multiline\n",
    "\n",
    "re.search('^North Korea\\.?', txt, flags = re.M ) "
   ]
  },
  {
   "cell_type": "code",
   "execution_count": null,
   "metadata": {
    "colab": {
     "base_uri": "https://localhost:8080/",
     "height": 120
    },
    "id": "wA47whgNDie7",
    "outputId": "af354999-e5b4-49dc-e9c3-097b82f8d7f6"
   },
   "outputs": [],
   "source": [
    "re.match('.*', txt, flags = re.DOTALL).group()"
   ]
  },
  {
   "cell_type": "markdown",
   "metadata": {
    "id": "teJctbvAE28p"
   },
   "source": [
    "Sumber : \n",
    "\n",
    "[Dicoding](https://www.dicoding.com/)\n",
    "\n",
    "[Regexr](https://regexr.com/)\n",
    "\n",
    "[DQLab](https://dqlab.id/)\n",
    "\n",
    "[Youtube](https://www.youtube.com/)\n",
    "\n",
    "[Github](https://github.com/)\n",
    "\n",
    "[NumPy](https://numpy.org/)\n",
    "\n",
    "[Pandas](https://pandas.pydata.org/)\n",
    "\n",
    "[Python](https://docs.python.org/)"
   ]
  }
 ],
 "metadata": {
  "colab": {
   "collapsed_sections": [],
   "name": "Bootcamp_Series_1.ipynb",
   "provenance": []
  },
  "kernelspec": {
   "display_name": "Python 3 (ipykernel)",
   "language": "python",
   "name": "python3"
  },
  "language_info": {
   "codemirror_mode": {
    "name": "ipython",
    "version": 3
   },
   "file_extension": ".py",
   "mimetype": "text/x-python",
   "name": "python",
   "nbconvert_exporter": "python",
   "pygments_lexer": "ipython3",
   "version": "3.9.7"
  }
 },
 "nbformat": 4,
 "nbformat_minor": 1
}
